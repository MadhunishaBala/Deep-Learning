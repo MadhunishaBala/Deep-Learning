{
  "cells": [
    {
      "cell_type": "markdown",
      "metadata": {
        "id": "v8qqJ98ajIe-"
      },
      "source": [
        "# Translation of Numeric Phrases with Seq2Seq\n",
        "\n",
        "In the following we will try to build a **translation model from french phrases describing numbers** to the corresponding **numeric representation** (base 10).\n",
        "\n",
        "This is a toy machine translation task with a **restricted vocabulary** and a **single valid translation for each source phrase** which makes it more tractable to train on a laptop computer and easier to evaluate. Despite those limitations we expect that this task will highlight interesting properties of Seq2Seq models including:\n",
        "\n",
        "- the ability to **deal with different length** of the source and target sequences,\n",
        "- handling token with a **meaning that changes depending on the context** (e.g \"quatre\" vs \"quatre vingts\" in \"quatre cents\"),\n",
        "- basic counting and \"reasoning\" capabilities of LSTM and GRU models.\n",
        "\n",
        "The parallel text data is generated from a \"ground-truth\" Python function named `to_french_phrase` that captures common rules. Hyphenation was intentionally omitted to make the phrases more ambiguous and therefore make the translation problem slightly harder to solve."
      ]
    },
    {
      "cell_type": "code",
      "execution_count": 1,
      "metadata": {
        "colab": {
          "base_uri": "https://localhost:8080/"
        },
        "id": "tACcPmxOjIfA",
        "outputId": "c38d6f37-b8f2-4cd1-e601-1f3bd5343c34"
      },
      "outputs": [
        {
          "output_type": "stream",
          "name": "stdout",
          "text": [
            "    21 vingt et un\n",
            "    80 quatre vingts\n",
            "    81 quatre vingt un\n",
            "   300 trois cents\n",
            "   213 deux cent treize\n",
            "  1100 mille cent\n",
            "  1201 mille deux cent un\n",
            "301000 trois cent un mille\n",
            " 80080 quatre vingt mille quatre vingts\n"
          ]
        }
      ],
      "source": [
        "from french_numbers import to_french_phrase\n",
        "\n",
        "for x in [21, 80, 81, 300, 213, 1100, 1201, 301000, 80080]:\n",
        "    print(str(x).rjust(6), to_french_phrase(x))"
      ]
    },
    {
      "cell_type": "markdown",
      "metadata": {
        "id": "tv2B5tZMjIfB"
      },
      "source": [
        "## Generating a Training Set\n",
        "\n",
        "The following will **generate phrases 20000 example phrases for numbers between 1 and 1,000,000** (excluded). We chose to over-represent small numbers by generating all the possible short sequences between `1` and `exhaustive=5000`.\n",
        "\n",
        "We then split the generated set into non-overlapping train, validation and test splits."
      ]
    },
    {
      "cell_type": "code",
      "execution_count": 2,
      "metadata": {
        "id": "4rnHBeyHjIfC"
      },
      "outputs": [],
      "source": [
        "from french_numbers import generate_translations\n",
        "from sklearn.model_selection import train_test_split\n",
        "\n",
        "\n",
        "numbers, french_numbers = generate_translations(\n",
        "    low=1, high=int(1e6) - 1, exhaustive=5000, random_seed=0)\n",
        "num_train, num_dev, fr_train, fr_dev = train_test_split(\n",
        "    numbers, french_numbers, test_size=0.5, random_state=0)\n",
        "\n",
        "num_val, num_test, fr_val, fr_test = train_test_split(\n",
        "    num_dev, fr_dev, test_size=0.5, random_state=0)"
      ]
    },
    {
      "cell_type": "code",
      "execution_count": 3,
      "metadata": {
        "colab": {
          "base_uri": "https://localhost:8080/"
        },
        "id": "7QBupR_-jIfC",
        "outputId": "06074581-65ec-42fb-beb1-a072f544c178"
      },
      "outputs": [
        {
          "output_type": "execute_result",
          "data": {
            "text/plain": [
              "(10000, 5000, 5000)"
            ]
          },
          "metadata": {},
          "execution_count": 3
        }
      ],
      "source": [
        "len(fr_train), len(fr_val), len(fr_test)"
      ]
    },
    {
      "cell_type": "code",
      "execution_count": 4,
      "metadata": {
        "colab": {
          "base_uri": "https://localhost:8080/"
        },
        "id": "4ZJe2_77jIfC",
        "outputId": "b5bfe58b-09f1-4469-e14e-583619ab01f8"
      },
      "outputs": [
        {
          "output_type": "stream",
          "name": "stdout",
          "text": [
            "  2882 deux mille huit cent quatre vingt deux\n",
            "372200 trois cent soixante douze mille deux cents\n",
            "  2193 deux mille cent quatre vingt treize\n",
            "996418 neuf cent quatre vingt seize mille quatre cent dix huit\n",
            "  9172 neuf mille cent soixante douze\n"
          ]
        }
      ],
      "source": [
        "for i, fr_phrase, num_phrase in zip(range(5), fr_train, num_train):\n",
        "    print(num_phrase.rjust(6), fr_phrase)"
      ]
    },
    {
      "cell_type": "code",
      "execution_count": 5,
      "metadata": {
        "colab": {
          "base_uri": "https://localhost:8080/"
        },
        "id": "kRDYITH9jIfD",
        "outputId": "6a0b1021-5117-4743-9487-c5502ec11482"
      },
      "outputs": [
        {
          "output_type": "stream",
          "name": "stdout",
          "text": [
            "  2804 deux mille huit cent quatre\n",
            "  3898 trois mille huit cent quatre vingt dix huit\n",
            " 82996 quatre vingt deux mille neuf cent quatre vingt seize\n",
            "366346 trois cent soixante six mille trois cent quarante six\n",
            " 56006 cinquante six mille six\n"
          ]
        }
      ],
      "source": [
        "for i, fr_phrase, num_phrase in zip(range(5), fr_val, num_val):\n",
        "    print(num_phrase.rjust(6), fr_phrase)"
      ]
    },
    {
      "cell_type": "markdown",
      "metadata": {
        "id": "oBIxqmjxjIfD"
      },
      "source": [
        "## Vocabularies\n",
        "\n",
        "Build the vocabularies from the training set only to get a chance to have some out-of-vocabulary words in the validation and test sets.\n",
        "\n",
        "First we need to introduce specific symbols that will be used to:\n",
        "- pad sequences\n",
        "- mark the beginning of translation\n",
        "- mark the end of translation\n",
        "- be used as a placehold for out-of-vocabulary symbols (not seen in the training set).\n",
        "\n",
        "Here we use the same convention as the [tensorflow seq2seq tutorial](https://www.tensorflow.org/tutorials/seq2seq):"
      ]
    },
    {
      "cell_type": "code",
      "execution_count": 6,
      "metadata": {
        "id": "eoHZg8yUjIfD"
      },
      "outputs": [],
      "source": [
        "PAD, GO, EOS, UNK = START_VOCAB = ['_PAD', '_GO', '_EOS', '_UNK']"
      ]
    },
    {
      "cell_type": "markdown",
      "metadata": {
        "id": "bE1pH7JjjIfD"
      },
      "source": [
        "To build the vocabulary we need to tokenize the sequences of symbols. For the digital number representation we use character level tokenization while whitespace-based word level tokenization will do for the French phrases:"
      ]
    },
    {
      "cell_type": "code",
      "execution_count": 7,
      "metadata": {
        "id": "K7ss7-2DjIfE"
      },
      "outputs": [],
      "source": [
        "def tokenize(sentence, word_level=True):\n",
        "    if word_level:\n",
        "        return sentence.split()\n",
        "    else:\n",
        "        return [sentence[i:i + 1] for i in range(len(sentence))]"
      ]
    },
    {
      "cell_type": "code",
      "execution_count": 8,
      "metadata": {
        "colab": {
          "base_uri": "https://localhost:8080/"
        },
        "id": "X1ApnYSajIfE",
        "outputId": "73fe6dcb-7db1-4b10-ccbc-2751728eca1b"
      },
      "outputs": [
        {
          "output_type": "execute_result",
          "data": {
            "text/plain": [
              "['1', '2', '3', '4']"
            ]
          },
          "metadata": {},
          "execution_count": 8
        }
      ],
      "source": [
        "tokenize('1234', word_level=False)"
      ]
    },
    {
      "cell_type": "code",
      "execution_count": 9,
      "metadata": {
        "colab": {
          "base_uri": "https://localhost:8080/"
        },
        "id": "2o0TvOJqjIfE",
        "outputId": "73cb8d63-df78-4062-981a-8ce9bf621c36"
      },
      "outputs": [
        {
          "output_type": "execute_result",
          "data": {
            "text/plain": [
              "['mille', 'deux', 'cent', 'trente', 'quatre']"
            ]
          },
          "metadata": {},
          "execution_count": 9
        }
      ],
      "source": [
        "tokenize('mille deux cent trente quatre', word_level=True)"
      ]
    },
    {
      "cell_type": "markdown",
      "metadata": {
        "id": "GtP7_8pKjIfE"
      },
      "source": [
        "Let's now use this tokenization strategy to assign a unique integer token id to each possible token string found the traing set in each language ('French' and 'numeric'):"
      ]
    },
    {
      "cell_type": "code",
      "execution_count": 10,
      "metadata": {
        "id": "2fJh2UoPjIfE"
      },
      "outputs": [],
      "source": [
        "def build_vocabulary(tokenized_sequences):\n",
        "    rev_vocabulary = START_VOCAB[:]\n",
        "    unique_tokens = set()\n",
        "    for tokens in tokenized_sequences:\n",
        "        unique_tokens.update(tokens)\n",
        "    rev_vocabulary += sorted(unique_tokens)\n",
        "    vocabulary = {}\n",
        "    for i, token in enumerate(rev_vocabulary):\n",
        "        vocabulary[token] = i\n",
        "    return vocabulary, rev_vocabulary"
      ]
    },
    {
      "cell_type": "code",
      "execution_count": 11,
      "metadata": {
        "id": "cNmMXCHrjIfE"
      },
      "outputs": [],
      "source": [
        "tokenized_fr_train = [tokenize(s, word_level=True) for s in fr_train]\n",
        "tokenized_num_train = [tokenize(s, word_level=False) for s in num_train]\n",
        "\n",
        "fr_vocab, rev_fr_vocab = build_vocabulary(tokenized_fr_train)\n",
        "num_vocab, rev_num_vocab = build_vocabulary(tokenized_num_train)"
      ]
    },
    {
      "cell_type": "markdown",
      "metadata": {
        "id": "z98T3ySIjIfF"
      },
      "source": [
        "The two languages do not have the same vocabulary sizes:"
      ]
    },
    {
      "cell_type": "code",
      "execution_count": 12,
      "metadata": {
        "colab": {
          "base_uri": "https://localhost:8080/"
        },
        "id": "g_KK48PgjIfF",
        "outputId": "5363c2db-6c2a-4a7f-9bdc-0dc22c9f93c8"
      },
      "outputs": [
        {
          "output_type": "execute_result",
          "data": {
            "text/plain": [
              "30"
            ]
          },
          "metadata": {},
          "execution_count": 12
        }
      ],
      "source": [
        "len(fr_vocab)"
      ]
    },
    {
      "cell_type": "code",
      "execution_count": 13,
      "metadata": {
        "colab": {
          "base_uri": "https://localhost:8080/"
        },
        "id": "RDikwwZCjIfF",
        "outputId": "d9130933-2ebe-413c-ca0b-4532dc8a3bc5"
      },
      "outputs": [
        {
          "output_type": "execute_result",
          "data": {
            "text/plain": [
              "14"
            ]
          },
          "metadata": {},
          "execution_count": 13
        }
      ],
      "source": [
        "len(num_vocab)"
      ]
    },
    {
      "cell_type": "code",
      "execution_count": 14,
      "metadata": {
        "colab": {
          "base_uri": "https://localhost:8080/"
        },
        "id": "yjdSvYaijIfF",
        "outputId": "1c86f9d2-e522-43ed-cd18-cdd76616dd51"
      },
      "outputs": [
        {
          "output_type": "stream",
          "name": "stdout",
          "text": [
            "      _EOS 2\n",
            "       _GO 1\n",
            "      _PAD 0\n",
            "      _UNK 3\n",
            "      cent 4\n",
            "     cents 5\n",
            "      cinq 6\n",
            " cinquante 7\n",
            "      deux 8\n",
            "       dix 9\n",
            "...\n"
          ]
        }
      ],
      "source": [
        "for k, v in sorted(fr_vocab.items())[:10]:\n",
        "    print(k.rjust(10), v)\n",
        "print('...')"
      ]
    },
    {
      "cell_type": "code",
      "execution_count": 15,
      "metadata": {
        "colab": {
          "base_uri": "https://localhost:8080/"
        },
        "id": "yh1Eji2QjIfF",
        "outputId": "2f08e3c1-00b0-42ac-f06d-6fc5b29136bc"
      },
      "outputs": [
        {
          "output_type": "stream",
          "name": "stdout",
          "text": [
            "         0 4\n",
            "         1 5\n",
            "         2 6\n",
            "         3 7\n",
            "         4 8\n",
            "         5 9\n",
            "         6 10\n",
            "         7 11\n",
            "         8 12\n",
            "         9 13\n",
            "      _EOS 2\n",
            "       _GO 1\n",
            "      _PAD 0\n",
            "      _UNK 3\n"
          ]
        }
      ],
      "source": [
        "for k, v in sorted(num_vocab.items()):\n",
        "    print(k.rjust(10), v)"
      ]
    },
    {
      "cell_type": "markdown",
      "metadata": {
        "id": "GUy43g-QjIfF"
      },
      "source": [
        "We also built the reverse mappings from token ids to token string representations:"
      ]
    },
    {
      "cell_type": "code",
      "execution_count": 16,
      "metadata": {
        "scrolled": true,
        "colab": {
          "base_uri": "https://localhost:8080/"
        },
        "id": "ud3V5tDjjIfF",
        "outputId": "8a72799d-3930-4a82-cd8b-41a625dfe8ec"
      },
      "outputs": [
        {
          "output_type": "stream",
          "name": "stdout",
          "text": [
            "['_PAD', '_GO', '_EOS', '_UNK', 'cent', 'cents', 'cinq', 'cinquante', 'deux', 'dix', 'douze', 'et', 'huit', 'mille', 'neuf', 'onze', 'quarante', 'quatorze', 'quatre', 'quinze', 'seize', 'sept', 'six', 'soixante', 'treize', 'trente', 'trois', 'un', 'vingt', 'vingts']\n"
          ]
        }
      ],
      "source": [
        "print(rev_fr_vocab)"
      ]
    },
    {
      "cell_type": "code",
      "execution_count": 17,
      "metadata": {
        "colab": {
          "base_uri": "https://localhost:8080/"
        },
        "id": "M2D_Z8ybjIfG",
        "outputId": "47d62f07-743f-4729-ab1d-2b370da2ac82"
      },
      "outputs": [
        {
          "output_type": "stream",
          "name": "stdout",
          "text": [
            "['_PAD', '_GO', '_EOS', '_UNK', '0', '1', '2', '3', '4', '5', '6', '7', '8', '9']\n"
          ]
        }
      ],
      "source": [
        "print(rev_num_vocab)"
      ]
    },
    {
      "cell_type": "markdown",
      "metadata": {
        "id": "YzpvSLJ6jIfG"
      },
      "source": [
        "## Seq2Seq with a single GRU architecture\n",
        "\n",
        "<img src=\"images/basic_seq2seq.png\" width=\"80%\" />\n",
        "\n",
        "From: [Sutskever, Ilya, Oriol Vinyals, and Quoc V. Le. \"Sequence to sequence learning with neural networks.\" NIPS 2014](https://arxiv.org/abs/1409.3215)\n",
        "\n",
        "\n",
        "\n",
        "For a given source sequence - target sequence pair, we will:\n",
        "- tokenize the source and target sequences;\n",
        "- reverse the order of the source sequence;\n",
        "- build the input sequence by concatenating the reversed source sequence and the target sequence in original order using the `_GO` token as a delimiter,\n",
        "- build the output sequence by appending the `_EOS` token to the source sequence.\n",
        "\n",
        "\n",
        "Let's do this as a function using the original string representations for the tokens so as to make it easier to debug:"
      ]
    },
    {
      "cell_type": "markdown",
      "metadata": {
        "id": "TLkvpQrBjIfG"
      },
      "source": [
        "**Exercise**\n",
        "- Write a function that turns a pair of tokenized (source, target) sequences into a pair of (input, output) sequences as described above.\n",
        "- The function should have a `reverse_source=True` as an option.\n",
        "\n",
        "Notes:\n",
        "- The function should output two sequences of string tokens: one to be fed as the input and the other as expected output for the seq2seq network.\n",
        "- Do not pad the sequences: we will handle the padding later.\n",
        "- Don't forget to insert the `_GO` and `_EOS` special symbols at the right locations."
      ]
    },
    {
      "cell_type": "code",
      "execution_count": 19,
      "metadata": {
        "id": "0TntVT-JjIfG"
      },
      "outputs": [],
      "source": [
        "def make_input_output(source_tokens, target_tokens, reverse_source=True):\n",
        "    if reverse_source:\n",
        "        source_tokens = source_tokens[::-1]\n",
        "\n",
        "    input_tokens = source_tokens + ['_GO'] + target_tokens\n",
        "\n",
        "    output_tokens = target_tokens + ['_EOS']\n",
        "    return input_tokens, output_tokens"
      ]
    },
    {
      "cell_type": "code",
      "execution_count": null,
      "metadata": {
        "id": "4cwC0_PtjIfG"
      },
      "outputs": [],
      "source": [
        "# Verify your solution by a tutor"
      ]
    },
    {
      "cell_type": "code",
      "execution_count": 20,
      "metadata": {
        "id": "zaZYdCzCjIfH"
      },
      "outputs": [],
      "source": [
        "input_tokens, output_tokens = make_input_output(\n",
        "    ['cent', 'vingt', 'et', 'un'],\n",
        "    ['1', '2', '1'],\n",
        ")\n",
        "# Expected outputs:\n",
        "# ['un', 'et', 'vingt', 'cent', '_GO', '1', '2', '1']\n",
        "# ['1', '2', '1', '_EOS']"
      ]
    },
    {
      "cell_type": "code",
      "execution_count": 21,
      "metadata": {
        "colab": {
          "base_uri": "https://localhost:8080/"
        },
        "id": "zDUxHcQUjIfH",
        "outputId": "f7f1ba5f-3d98-4c2d-f2d6-bd6809c0bb0d"
      },
      "outputs": [
        {
          "output_type": "execute_result",
          "data": {
            "text/plain": [
              "['un', 'et', 'vingt', 'cent', '_GO', '1', '2', '1']"
            ]
          },
          "metadata": {},
          "execution_count": 21
        }
      ],
      "source": [
        "input_tokens"
      ]
    },
    {
      "cell_type": "code",
      "execution_count": 22,
      "metadata": {
        "colab": {
          "base_uri": "https://localhost:8080/"
        },
        "id": "AzQwG_XDjIfH",
        "outputId": "508e906a-3bb5-4edb-d2ca-130f15ccf058"
      },
      "outputs": [
        {
          "output_type": "execute_result",
          "data": {
            "text/plain": [
              "['1', '2', '1', '_EOS']"
            ]
          },
          "metadata": {},
          "execution_count": 22
        }
      ],
      "source": [
        "output_tokens"
      ]
    },
    {
      "cell_type": "markdown",
      "metadata": {
        "id": "J5cB8O9rjIfI"
      },
      "source": [
        "### Vectorization of the parallel corpus\n",
        "\n",
        "Let's apply the previous transformation to each pair of (source, target) sequene and use a shared vocabulary to store the results in numpy arrays of integer token ids, with padding on the left so that all input / output sequences have the same length:"
      ]
    },
    {
      "cell_type": "code",
      "execution_count": 23,
      "metadata": {
        "id": "iMBwlrgWjIfI"
      },
      "outputs": [],
      "source": [
        "all_tokenized_sequences = tokenized_fr_train + tokenized_num_train\n",
        "shared_vocab, rev_shared_vocab = build_vocabulary(all_tokenized_sequences)"
      ]
    },
    {
      "cell_type": "code",
      "execution_count": 24,
      "metadata": {
        "colab": {
          "base_uri": "https://localhost:8080/"
        },
        "id": "jzPo7z-ijIfI",
        "outputId": "b9e28e21-b0d5-48f5-8abf-6b89ab820665"
      },
      "outputs": [
        {
          "output_type": "execute_result",
          "data": {
            "text/plain": [
              "13"
            ]
          },
          "metadata": {},
          "execution_count": 24
        }
      ],
      "source": [
        "max(len(s) for s in tokenized_fr_train)"
      ]
    },
    {
      "cell_type": "code",
      "execution_count": 25,
      "metadata": {
        "colab": {
          "base_uri": "https://localhost:8080/"
        },
        "id": "mBqZp-6sjIfI",
        "outputId": "6363a410-bce5-4e2d-f8f9-542b825b8b67"
      },
      "outputs": [
        {
          "output_type": "execute_result",
          "data": {
            "text/plain": [
              "6"
            ]
          },
          "metadata": {},
          "execution_count": 25
        }
      ],
      "source": [
        "max(len(s) for s in tokenized_num_train)"
      ]
    },
    {
      "cell_type": "code",
      "execution_count": 26,
      "metadata": {
        "id": "qiVDBoLZjIfI"
      },
      "outputs": [],
      "source": [
        "import numpy as np\n",
        "max_length = 20  # found by introspection of our training set\n",
        "\n",
        "def vectorize_corpus(source_sequences, target_sequences, shared_vocab,\n",
        "                     word_level_source=True, word_level_target=True,\n",
        "                     max_length=max_length):\n",
        "    assert len(source_sequences) == len(target_sequences)\n",
        "    n_sequences = len(source_sequences)\n",
        "    source_ids = np.empty(shape=(n_sequences, max_length), dtype=np.int32)\n",
        "    source_ids.fill(shared_vocab[PAD])\n",
        "    target_ids = np.empty(shape=(n_sequences, max_length), dtype=np.int32)\n",
        "    target_ids.fill(shared_vocab[PAD])\n",
        "    numbered_pairs = zip(range(n_sequences), source_sequences, target_sequences)\n",
        "    for i, source_seq, target_seq in numbered_pairs:\n",
        "        source_tokens = tokenize(source_seq, word_level=word_level_source)\n",
        "        target_tokens = tokenize(target_seq, word_level=word_level_target)\n",
        "\n",
        "        in_tokens, out_tokens = make_input_output(source_tokens, target_tokens)\n",
        "\n",
        "        in_token_ids = [shared_vocab.get(t, UNK) for t in in_tokens]\n",
        "        source_ids[i, -len(in_token_ids):] = in_token_ids\n",
        "\n",
        "        out_token_ids = [shared_vocab.get(t, UNK) for t in out_tokens]\n",
        "        target_ids[i, -len(out_token_ids):] = out_token_ids\n",
        "    return source_ids, target_ids"
      ]
    },
    {
      "cell_type": "code",
      "execution_count": 27,
      "metadata": {
        "id": "ZSgd4bALjIfJ"
      },
      "outputs": [],
      "source": [
        "X_train, Y_train = vectorize_corpus(fr_train, num_train, shared_vocab,\n",
        "                                    word_level_target=False)"
      ]
    },
    {
      "cell_type": "code",
      "execution_count": 28,
      "metadata": {
        "colab": {
          "base_uri": "https://localhost:8080/"
        },
        "id": "g7smnm-tjIfJ",
        "outputId": "3db0b41c-ed24-43e4-c6ed-51c03aacdf80"
      },
      "outputs": [
        {
          "output_type": "execute_result",
          "data": {
            "text/plain": [
              "(10000, 20)"
            ]
          },
          "metadata": {},
          "execution_count": 28
        }
      ],
      "source": [
        "X_train.shape"
      ]
    },
    {
      "cell_type": "code",
      "execution_count": 29,
      "metadata": {
        "colab": {
          "base_uri": "https://localhost:8080/"
        },
        "id": "0-5l_h0NjIfJ",
        "outputId": "69d4414c-23ea-4446-ac34-89e114be2d69"
      },
      "outputs": [
        {
          "output_type": "execute_result",
          "data": {
            "text/plain": [
              "array([ 0,  0,  0,  0,  0,  0,  0,  0, 18, 38, 28, 14, 22, 23, 18,  1,  6,\n",
              "       12, 12,  6], dtype=int32)"
            ]
          },
          "metadata": {},
          "execution_count": 29
        }
      ],
      "source": [
        "X_train[0]"
      ]
    },
    {
      "cell_type": "code",
      "execution_count": 30,
      "metadata": {
        "colab": {
          "base_uri": "https://localhost:8080/"
        },
        "id": "iKf0nx_VjIfJ",
        "outputId": "bd4c0355-a1fd-47d4-ec2e-e792fd33cddd"
      },
      "outputs": [
        {
          "output_type": "execute_result",
          "data": {
            "text/plain": [
              "(10000, 20)"
            ]
          },
          "metadata": {},
          "execution_count": 30
        }
      ],
      "source": [
        "Y_train.shape"
      ]
    },
    {
      "cell_type": "code",
      "execution_count": 31,
      "metadata": {
        "colab": {
          "base_uri": "https://localhost:8080/",
          "height": 36
        },
        "id": "hFFJaiCojIfJ",
        "outputId": "b609715f-a950-4b11-ced5-a73d9d9d294e"
      },
      "outputs": [
        {
          "output_type": "execute_result",
          "data": {
            "text/plain": [
              "'deux mille huit cent quatre vingt deux'"
            ],
            "application/vnd.google.colaboratory.intrinsic+json": {
              "type": "string"
            }
          },
          "metadata": {},
          "execution_count": 31
        }
      ],
      "source": [
        "fr_train[0]"
      ]
    },
    {
      "cell_type": "code",
      "execution_count": 32,
      "metadata": {
        "colab": {
          "base_uri": "https://localhost:8080/",
          "height": 36
        },
        "id": "x_8169E_jIfK",
        "outputId": "dd3f7443-f91d-4884-ad79-3e3962a53140"
      },
      "outputs": [
        {
          "output_type": "execute_result",
          "data": {
            "text/plain": [
              "'2882'"
            ],
            "application/vnd.google.colaboratory.intrinsic+json": {
              "type": "string"
            }
          },
          "metadata": {},
          "execution_count": 32
        }
      ],
      "source": [
        "num_train[0]"
      ]
    },
    {
      "cell_type": "code",
      "execution_count": 33,
      "metadata": {
        "colab": {
          "base_uri": "https://localhost:8080/"
        },
        "id": "hu1hHhbhjIfK",
        "outputId": "7ed6f264-4487-4ceb-b266-520b9bbd752f"
      },
      "outputs": [
        {
          "output_type": "execute_result",
          "data": {
            "text/plain": [
              "array([ 0,  0,  0,  0,  0,  0,  0,  0, 18, 38, 28, 14, 22, 23, 18,  1,  6,\n",
              "       12, 12,  6], dtype=int32)"
            ]
          },
          "metadata": {},
          "execution_count": 33
        }
      ],
      "source": [
        "X_train[0]"
      ]
    },
    {
      "cell_type": "code",
      "execution_count": 34,
      "metadata": {
        "colab": {
          "base_uri": "https://localhost:8080/"
        },
        "id": "eHh7VehujIfK",
        "outputId": "267759be-afcb-4e68-b9ac-c39d36b92207"
      },
      "outputs": [
        {
          "output_type": "execute_result",
          "data": {
            "text/plain": [
              "array([ 0,  0,  0,  0,  0,  0,  0,  0,  0,  0,  0,  0,  0,  0,  0,  6, 12,\n",
              "       12,  6,  2], dtype=int32)"
            ]
          },
          "metadata": {},
          "execution_count": 34
        }
      ],
      "source": [
        "Y_train[0]"
      ]
    },
    {
      "cell_type": "markdown",
      "metadata": {
        "id": "JcnoHfv2jIfK"
      },
      "source": [
        "This looks good. In particular we can note:\n",
        "\n",
        "- the PAD=0 symbol at the beginning of the two sequences,\n",
        "- the input sequence has the GO=1 symbol to separate the source from the target,\n",
        "- the output sequence is a shifted version of the target and ends with EOS=2.\n",
        "\n",
        "Let's vectorize the validation and test set to be able to evaluate our models:"
      ]
    },
    {
      "cell_type": "code",
      "execution_count": 35,
      "metadata": {
        "id": "lo-0tAz8jIfK"
      },
      "outputs": [],
      "source": [
        "X_val, Y_val = vectorize_corpus(fr_val, num_val, shared_vocab,\n",
        "                                word_level_target=False)\n",
        "X_test, Y_test = vectorize_corpus(fr_test, num_test, shared_vocab,\n",
        "                                  word_level_target=False)"
      ]
    },
    {
      "cell_type": "code",
      "execution_count": 36,
      "metadata": {
        "colab": {
          "base_uri": "https://localhost:8080/"
        },
        "id": "bQ4W_ecLjIfK",
        "outputId": "ae95b00c-b59c-44c1-eb4a-7890ef960ace"
      },
      "outputs": [
        {
          "output_type": "execute_result",
          "data": {
            "text/plain": [
              "((5000, 20), (5000, 20))"
            ]
          },
          "metadata": {},
          "execution_count": 36
        }
      ],
      "source": [
        "X_val.shape, Y_val.shape"
      ]
    },
    {
      "cell_type": "code",
      "execution_count": 37,
      "metadata": {
        "colab": {
          "base_uri": "https://localhost:8080/"
        },
        "id": "grDBNdDOjIfL",
        "outputId": "48ee7865-29d8-432c-d07e-c848e7f52b1d"
      },
      "outputs": [
        {
          "output_type": "execute_result",
          "data": {
            "text/plain": [
              "((5000, 20), (5000, 20))"
            ]
          },
          "metadata": {},
          "execution_count": 37
        }
      ],
      "source": [
        "X_test.shape, Y_test.shape"
      ]
    },
    {
      "cell_type": "markdown",
      "metadata": {
        "id": "1V601A43jIfL"
      },
      "source": [
        "### A simple homogeneous Seq2Seq architecture\n",
        "\n",
        "To keep the architecture simple we will use the **same RNN model and weights for both the encoder part** (before the `_GO` token) **and the decoder part** (after the `_GO` token).\n",
        "\n",
        "We may GRU recurrent cell instead of LSTM because it is slightly faster to compute and should give comparable results.\n",
        "\n",
        "**Exercise:**\n",
        "- Build a Seq2Seq model:\n",
        "  - Start with an Embedding layer;\n",
        "  - Add a single GRU layer: the GRU layer should yield a sequence of output vectors, one at each timestep;\n",
        "  - Add a Dense layer to adapt the ouput dimension of the GRU layer to the dimension of the output vocabulary;\n",
        "  - Don't forget to insert some Dropout layer(s), especially after the Embedding layer.\n",
        "\n",
        "Note:\n",
        "- The output dimension of the Embedding layer should be smaller than usual be cause we have small vocabulary size;\n",
        "- The dimension of the GRU should be larger to give the Seq2Seq model enough \"working memory\" to memorize the full input sequence before decoding it;\n",
        "- Your model should output a shape `[batch, sequence_length, vocab_size]`."
      ]
    },
    {
      "cell_type": "code",
      "execution_count": 44,
      "metadata": {
        "id": "TOhkAUVbjIfL"
      },
      "outputs": [],
      "source": [
        "from keras.models import Sequential\n",
        "from keras.layers import Embedding, Dropout, GRU, Dense\n",
        "\n",
        "vocab_size = len(shared_vocab)\n",
        "simple_seq2seq = Sequential()\n",
        "\n",
        "embedding_dim = 128\n",
        "simple_seq2seq.add(Embedding(input_dim=vocab_size, output_dim=embedding_dim, mask_zero=True))\n",
        "simple_seq2seq.add(Dropout(0.3))\n",
        "\n",
        "gru_units = 256\n",
        "simple_seq2seq.add(GRU(gru_units, return_sequences=True))\n",
        "simple_seq2seq.add(Dense(vocab_size, activation='softmax'))\n",
        "\n",
        "# Here we use the sparse_categorical_crossentropy loss to be able to pass\n",
        "# integer-coded output for the token ids without having to convert to one-hot\n",
        "# codes\n",
        "simple_seq2seq.compile(optimizer='adam', loss='sparse_categorical_crossentropy')"
      ]
    },
    {
      "cell_type": "markdown",
      "metadata": {
        "id": "EF-7AL7XjIfL"
      },
      "source": [
        "**Questions**:\n",
        "\n",
        "- What is the expected shape of the output of the model when fed with input of length 20 tokens? What is the meaning of the values in the output of the model?\n",
        "- What is the shape of the output of each layer in the model?"
      ]
    },
    {
      "cell_type": "markdown",
      "source": [
        "1) It would be (Batch Size, 20 , vocab size)\n",
        "\n",
        "\n",
        "2)The model's output is a tensor where each entry corresponds to a prediction for the next token in the sequence at each time step."
      ],
      "metadata": {
        "id": "XdNfupD-qNlH"
      }
    },
    {
      "cell_type": "code",
      "execution_count": 45,
      "metadata": {
        "colab": {
          "base_uri": "https://localhost:8080/"
        },
        "id": "sMOB6crUjIfL",
        "outputId": "c45c2ccb-7a9c-4e74-9748-a30cec6458c3"
      },
      "outputs": [
        {
          "output_type": "stream",
          "name": "stdout",
          "text": [
            "\u001b[1m1/1\u001b[0m \u001b[32m━━━━━━━━━━━━━━━━━━━━\u001b[0m\u001b[37m\u001b[0m \u001b[1m1s\u001b[0m 581ms/step\n"
          ]
        },
        {
          "output_type": "execute_result",
          "data": {
            "text/plain": [
              "(1, 20, 40)"
            ]
          },
          "metadata": {},
          "execution_count": 45
        }
      ],
      "source": [
        "simple_seq2seq.predict(X_train[0:1]).shape"
      ]
    },
    {
      "cell_type": "code",
      "execution_count": 46,
      "metadata": {
        "colab": {
          "base_uri": "https://localhost:8080/",
          "height": 257
        },
        "id": "9k9xp_TZjIfL",
        "outputId": "2a3c30bb-fdea-4e09-bc11-af4830530a99"
      },
      "outputs": [
        {
          "output_type": "display_data",
          "data": {
            "text/plain": [
              "\u001b[1mModel: \"sequential_1\"\u001b[0m\n"
            ],
            "text/html": [
              "<pre style=\"white-space:pre;overflow-x:auto;line-height:normal;font-family:Menlo,'DejaVu Sans Mono',consolas,'Courier New',monospace\"><span style=\"font-weight: bold\">Model: \"sequential_1\"</span>\n",
              "</pre>\n"
            ]
          },
          "metadata": {}
        },
        {
          "output_type": "display_data",
          "data": {
            "text/plain": [
              "┏━━━━━━━━━━━━━━━━━━━━━━━━━━━━━━━━━━━━━━┳━━━━━━━━━━━━━━━━━━━━━━━━━━━━━┳━━━━━━━━━━━━━━━━━┓\n",
              "┃\u001b[1m \u001b[0m\u001b[1mLayer (type)                        \u001b[0m\u001b[1m \u001b[0m┃\u001b[1m \u001b[0m\u001b[1mOutput Shape               \u001b[0m\u001b[1m \u001b[0m┃\u001b[1m \u001b[0m\u001b[1m        Param #\u001b[0m\u001b[1m \u001b[0m┃\n",
              "┡━━━━━━━━━━━━━━━━━━━━━━━━━━━━━━━━━━━━━━╇━━━━━━━━━━━━━━━━━━━━━━━━━━━━━╇━━━━━━━━━━━━━━━━━┩\n",
              "│ embedding_1 (\u001b[38;5;33mEmbedding\u001b[0m)              │ (\u001b[38;5;34m1\u001b[0m, \u001b[38;5;34m20\u001b[0m, \u001b[38;5;34m128\u001b[0m)                │           \u001b[38;5;34m5,120\u001b[0m │\n",
              "├──────────────────────────────────────┼─────────────────────────────┼─────────────────┤\n",
              "│ dropout_1 (\u001b[38;5;33mDropout\u001b[0m)                  │ (\u001b[38;5;34m1\u001b[0m, \u001b[38;5;34m20\u001b[0m, \u001b[38;5;34m128\u001b[0m)                │               \u001b[38;5;34m0\u001b[0m │\n",
              "├──────────────────────────────────────┼─────────────────────────────┼─────────────────┤\n",
              "│ gru_1 (\u001b[38;5;33mGRU\u001b[0m)                          │ (\u001b[38;5;34m1\u001b[0m, \u001b[38;5;34m20\u001b[0m, \u001b[38;5;34m256\u001b[0m)                │         \u001b[38;5;34m296,448\u001b[0m │\n",
              "├──────────────────────────────────────┼─────────────────────────────┼─────────────────┤\n",
              "│ dense_1 (\u001b[38;5;33mDense\u001b[0m)                      │ (\u001b[38;5;34m1\u001b[0m, \u001b[38;5;34m20\u001b[0m, \u001b[38;5;34m40\u001b[0m)                 │          \u001b[38;5;34m10,280\u001b[0m │\n",
              "└──────────────────────────────────────┴─────────────────────────────┴─────────────────┘\n"
            ],
            "text/html": [
              "<pre style=\"white-space:pre;overflow-x:auto;line-height:normal;font-family:Menlo,'DejaVu Sans Mono',consolas,'Courier New',monospace\">┏━━━━━━━━━━━━━━━━━━━━━━━━━━━━━━━━━━━━━━┳━━━━━━━━━━━━━━━━━━━━━━━━━━━━━┳━━━━━━━━━━━━━━━━━┓\n",
              "┃<span style=\"font-weight: bold\"> Layer (type)                         </span>┃<span style=\"font-weight: bold\"> Output Shape                </span>┃<span style=\"font-weight: bold\">         Param # </span>┃\n",
              "┡━━━━━━━━━━━━━━━━━━━━━━━━━━━━━━━━━━━━━━╇━━━━━━━━━━━━━━━━━━━━━━━━━━━━━╇━━━━━━━━━━━━━━━━━┩\n",
              "│ embedding_1 (<span style=\"color: #0087ff; text-decoration-color: #0087ff\">Embedding</span>)              │ (<span style=\"color: #00af00; text-decoration-color: #00af00\">1</span>, <span style=\"color: #00af00; text-decoration-color: #00af00\">20</span>, <span style=\"color: #00af00; text-decoration-color: #00af00\">128</span>)                │           <span style=\"color: #00af00; text-decoration-color: #00af00\">5,120</span> │\n",
              "├──────────────────────────────────────┼─────────────────────────────┼─────────────────┤\n",
              "│ dropout_1 (<span style=\"color: #0087ff; text-decoration-color: #0087ff\">Dropout</span>)                  │ (<span style=\"color: #00af00; text-decoration-color: #00af00\">1</span>, <span style=\"color: #00af00; text-decoration-color: #00af00\">20</span>, <span style=\"color: #00af00; text-decoration-color: #00af00\">128</span>)                │               <span style=\"color: #00af00; text-decoration-color: #00af00\">0</span> │\n",
              "├──────────────────────────────────────┼─────────────────────────────┼─────────────────┤\n",
              "│ gru_1 (<span style=\"color: #0087ff; text-decoration-color: #0087ff\">GRU</span>)                          │ (<span style=\"color: #00af00; text-decoration-color: #00af00\">1</span>, <span style=\"color: #00af00; text-decoration-color: #00af00\">20</span>, <span style=\"color: #00af00; text-decoration-color: #00af00\">256</span>)                │         <span style=\"color: #00af00; text-decoration-color: #00af00\">296,448</span> │\n",
              "├──────────────────────────────────────┼─────────────────────────────┼─────────────────┤\n",
              "│ dense_1 (<span style=\"color: #0087ff; text-decoration-color: #0087ff\">Dense</span>)                      │ (<span style=\"color: #00af00; text-decoration-color: #00af00\">1</span>, <span style=\"color: #00af00; text-decoration-color: #00af00\">20</span>, <span style=\"color: #00af00; text-decoration-color: #00af00\">40</span>)                 │          <span style=\"color: #00af00; text-decoration-color: #00af00\">10,280</span> │\n",
              "└──────────────────────────────────────┴─────────────────────────────┴─────────────────┘\n",
              "</pre>\n"
            ]
          },
          "metadata": {}
        },
        {
          "output_type": "display_data",
          "data": {
            "text/plain": [
              "\u001b[1m Total params: \u001b[0m\u001b[38;5;34m311,848\u001b[0m (1.19 MB)\n"
            ],
            "text/html": [
              "<pre style=\"white-space:pre;overflow-x:auto;line-height:normal;font-family:Menlo,'DejaVu Sans Mono',consolas,'Courier New',monospace\"><span style=\"font-weight: bold\"> Total params: </span><span style=\"color: #00af00; text-decoration-color: #00af00\">311,848</span> (1.19 MB)\n",
              "</pre>\n"
            ]
          },
          "metadata": {}
        },
        {
          "output_type": "display_data",
          "data": {
            "text/plain": [
              "\u001b[1m Trainable params: \u001b[0m\u001b[38;5;34m311,848\u001b[0m (1.19 MB)\n"
            ],
            "text/html": [
              "<pre style=\"white-space:pre;overflow-x:auto;line-height:normal;font-family:Menlo,'DejaVu Sans Mono',consolas,'Courier New',monospace\"><span style=\"font-weight: bold\"> Trainable params: </span><span style=\"color: #00af00; text-decoration-color: #00af00\">311,848</span> (1.19 MB)\n",
              "</pre>\n"
            ]
          },
          "metadata": {}
        },
        {
          "output_type": "display_data",
          "data": {
            "text/plain": [
              "\u001b[1m Non-trainable params: \u001b[0m\u001b[38;5;34m0\u001b[0m (0.00 B)\n"
            ],
            "text/html": [
              "<pre style=\"white-space:pre;overflow-x:auto;line-height:normal;font-family:Menlo,'DejaVu Sans Mono',consolas,'Courier New',monospace\"><span style=\"font-weight: bold\"> Non-trainable params: </span><span style=\"color: #00af00; text-decoration-color: #00af00\">0</span> (0.00 B)\n",
              "</pre>\n"
            ]
          },
          "metadata": {}
        }
      ],
      "source": [
        "simple_seq2seq.summary()"
      ]
    },
    {
      "cell_type": "markdown",
      "metadata": {
        "id": "r33sXrEijIfL"
      },
      "source": [
        "Let's register a callback mechanism to automatically snapshot the best model by measure the performance of the model on the validation set at the end of each epoch during training:"
      ]
    },
    {
      "cell_type": "code",
      "execution_count": 48,
      "metadata": {
        "id": "ETihaQS-jIfM"
      },
      "outputs": [],
      "source": [
        "from keras.callbacks import ModelCheckpoint\n",
        "from keras.models import load_model\n",
        "\n",
        "\n",
        "best_model_fname = \"simple_seq2seq_checkpoint.keras\"\n",
        "best_model_cb = ModelCheckpoint(best_model_fname, monitor='val_loss', save_best_only=True, verbose=1)"
      ]
    },
    {
      "cell_type": "markdown",
      "metadata": {
        "id": "ttpxeoWojIfM"
      },
      "source": [
        "We need to use np.expand_dims trick on Y: this is required by Keras because of we use a sparse (integer-based) representation for the output:"
      ]
    },
    {
      "cell_type": "code",
      "execution_count": 49,
      "metadata": {
        "scrolled": false,
        "colab": {
          "base_uri": "https://localhost:8080/",
          "height": 1000
        },
        "id": "CgjG_FC6jIfM",
        "outputId": "7ad10bf1-51db-4674-88af-dcd7ed896c72"
      },
      "outputs": [
        {
          "output_type": "stream",
          "name": "stdout",
          "text": [
            "Epoch 1/15\n",
            "\n",
            "Epoch 1: val_loss improved from inf to 0.80877, saving model to simple_seq2seq_checkpoint.keras\n",
            "313/313 - 28s - 91ms/step - loss: 1.0478 - val_loss: 0.8088\n",
            "Epoch 2/15\n",
            "\n",
            "Epoch 2: val_loss improved from 0.80877 to 0.44896, saving model to simple_seq2seq_checkpoint.keras\n",
            "313/313 - 41s - 131ms/step - loss: 0.6450 - val_loss: 0.4490\n",
            "Epoch 3/15\n",
            "\n",
            "Epoch 3: val_loss improved from 0.44896 to 0.21852, saving model to simple_seq2seq_checkpoint.keras\n",
            "313/313 - 40s - 129ms/step - loss: 0.3317 - val_loss: 0.2185\n",
            "Epoch 4/15\n",
            "\n",
            "Epoch 4: val_loss improved from 0.21852 to 0.10501, saving model to simple_seq2seq_checkpoint.keras\n",
            "313/313 - 28s - 88ms/step - loss: 0.1704 - val_loss: 0.1050\n",
            "Epoch 5/15\n",
            "\n",
            "Epoch 5: val_loss improved from 0.10501 to 0.05116, saving model to simple_seq2seq_checkpoint.keras\n",
            "313/313 - 41s - 130ms/step - loss: 0.0941 - val_loss: 0.0512\n",
            "Epoch 6/15\n",
            "\n",
            "Epoch 6: val_loss improved from 0.05116 to 0.03240, saving model to simple_seq2seq_checkpoint.keras\n",
            "313/313 - 40s - 128ms/step - loss: 0.0556 - val_loss: 0.0324\n",
            "Epoch 7/15\n",
            "\n",
            "Epoch 7: val_loss improved from 0.03240 to 0.01944, saving model to simple_seq2seq_checkpoint.keras\n",
            "313/313 - 30s - 95ms/step - loss: 0.0342 - val_loss: 0.0194\n",
            "Epoch 8/15\n",
            "\n",
            "Epoch 8: val_loss improved from 0.01944 to 0.01399, saving model to simple_seq2seq_checkpoint.keras\n",
            "313/313 - 36s - 116ms/step - loss: 0.0214 - val_loss: 0.0140\n",
            "Epoch 9/15\n",
            "\n",
            "Epoch 9: val_loss improved from 0.01399 to 0.00884, saving model to simple_seq2seq_checkpoint.keras\n",
            "313/313 - 42s - 134ms/step - loss: 0.0161 - val_loss: 0.0088\n",
            "Epoch 10/15\n",
            "\n",
            "Epoch 10: val_loss improved from 0.00884 to 0.00633, saving model to simple_seq2seq_checkpoint.keras\n",
            "313/313 - 30s - 97ms/step - loss: 0.0110 - val_loss: 0.0063\n",
            "Epoch 11/15\n",
            "\n",
            "Epoch 11: val_loss improved from 0.00633 to 0.00443, saving model to simple_seq2seq_checkpoint.keras\n",
            "313/313 - 36s - 117ms/step - loss: 0.0087 - val_loss: 0.0044\n",
            "Epoch 12/15\n",
            "\n",
            "Epoch 12: val_loss did not improve from 0.00443\n",
            "313/313 - 25s - 81ms/step - loss: 0.0067 - val_loss: 0.0045\n",
            "Epoch 13/15\n",
            "\n",
            "Epoch 13: val_loss improved from 0.00443 to 0.00329, saving model to simple_seq2seq_checkpoint.keras\n",
            "313/313 - 42s - 133ms/step - loss: 0.0043 - val_loss: 0.0033\n",
            "Epoch 14/15\n",
            "\n",
            "Epoch 14: val_loss improved from 0.00329 to 0.00252, saving model to simple_seq2seq_checkpoint.keras\n",
            "313/313 - 25s - 81ms/step - loss: 0.0050 - val_loss: 0.0025\n",
            "Epoch 15/15\n",
            "\n",
            "Epoch 15: val_loss did not improve from 0.00252\n",
            "313/313 - 41s - 132ms/step - loss: 0.0029 - val_loss: 0.0036\n"
          ]
        },
        {
          "output_type": "execute_result",
          "data": {
            "text/plain": [
              "Text(0.5, 1.0, 'Convergence plot for Simple Seq2Seq')"
            ]
          },
          "metadata": {},
          "execution_count": 49
        },
        {
          "output_type": "display_data",
          "data": {
            "text/plain": [
              "<Figure size 1200x600 with 1 Axes>"
            ],
            "image/png": "[encoded data removed]"
          },
          "metadata": {}
        }
      ],
      "source": [
        "%matplotlib inline\n",
        "import matplotlib.pyplot as plt\n",
        "\n",
        "history = simple_seq2seq.fit(X_train, np.expand_dims(Y_train, -1),\n",
        "                             validation_data=(X_val, np.expand_dims(Y_val, -1)),\n",
        "                             epochs=15, verbose=2, batch_size=32,\n",
        "                             callbacks=[best_model_cb])\n",
        "\n",
        "plt.figure(figsize=(12, 6))\n",
        "plt.plot(history.history['loss'], label='train')\n",
        "plt.plot(history.history['val_loss'], '--', label='validation')\n",
        "plt.ylabel('negative log likelihood')\n",
        "plt.xlabel('epoch')\n",
        "plt.legend()\n",
        "plt.title('Convergence plot for Simple Seq2Seq')"
      ]
    },
    {
      "cell_type": "markdown",
      "metadata": {
        "id": "Bu6_MaMZjIfM"
      },
      "source": [
        "Let's load the best model found on the validation set at the end of training:"
      ]
    },
    {
      "cell_type": "code",
      "execution_count": 50,
      "metadata": {
        "id": "mu1tdQfVjIfM"
      },
      "outputs": [],
      "source": [
        "simple_seq2seq = load_model(best_model_fname)"
      ]
    },
    {
      "cell_type": "markdown",
      "metadata": {
        "id": "HwkqIJeqjIfM"
      },
      "source": [
        "If you don't have access to a GPU and cannot wait 10 minutes to for the model to converge to a reasonably good state, feel to use the pretrained model. This model has been obtained by training the above model for ~150 epochs. The validation loss is significantly lower than 1e-5. In practice it should hardly ever make any prediction error on this easy translation problem."
      ]
    },
    {
      "cell_type": "markdown",
      "metadata": {
        "id": "ODhPIH9JjIfM"
      },
      "source": [
        "Let's have a look at a raw prediction on the first sample of the test set:"
      ]
    },
    {
      "cell_type": "code",
      "execution_count": 51,
      "metadata": {
        "colab": {
          "base_uri": "https://localhost:8080/",
          "height": 36
        },
        "id": "mCxeJLbbjIfM",
        "outputId": "f72dd20e-0b8a-4717-bcd8-06be7be8c3d9"
      },
      "outputs": [
        {
          "output_type": "execute_result",
          "data": {
            "text/plain": [
              "'quatre vingt seize mille deux cent trente sept'"
            ],
            "application/vnd.google.colaboratory.intrinsic+json": {
              "type": "string"
            }
          },
          "metadata": {},
          "execution_count": 51
        }
      ],
      "source": [
        "fr_test[0]"
      ]
    },
    {
      "cell_type": "markdown",
      "metadata": {
        "id": "SiEJTXW8jIfN"
      },
      "source": [
        "In numeric array this is provided (along with the expected target sequence) as the following padded input sequence:"
      ]
    },
    {
      "cell_type": "code",
      "execution_count": 52,
      "metadata": {
        "colab": {
          "base_uri": "https://localhost:8080/"
        },
        "id": "-LwXDZ1djIfN",
        "outputId": "833185bb-960b-475d-e31b-08ba2074af75"
      },
      "outputs": [
        {
          "output_type": "execute_result",
          "data": {
            "text/plain": [
              "array([[ 0,  0,  0,  0,  0,  0, 31, 35, 14, 18, 23, 30, 38, 28,  1, 13,\n",
              "        10,  6,  7, 11]], dtype=int32)"
            ]
          },
          "metadata": {},
          "execution_count": 52
        }
      ],
      "source": [
        "first_test_sequence = X_test[0:1]\n",
        "first_test_sequence"
      ]
    },
    {
      "cell_type": "markdown",
      "metadata": {
        "id": "plIcAoE3jIfN"
      },
      "source": [
        "Remember that the `_GO` (symbol indexed at `1`) separates the reversed source from the expected target sequence:  "
      ]
    },
    {
      "cell_type": "code",
      "execution_count": 53,
      "metadata": {
        "colab": {
          "base_uri": "https://localhost:8080/",
          "height": 36
        },
        "id": "EYneGegPjIfN",
        "outputId": "8e67ff29-bcb5-4d72-df0e-24419e64b1c0"
      },
      "outputs": [
        {
          "output_type": "execute_result",
          "data": {
            "text/plain": [
              "'_GO'"
            ],
            "application/vnd.google.colaboratory.intrinsic+json": {
              "type": "string"
            }
          },
          "metadata": {},
          "execution_count": 53
        }
      ],
      "source": [
        "rev_shared_vocab[1]"
      ]
    },
    {
      "cell_type": "markdown",
      "metadata": {
        "id": "v4P2o3lyjIfN"
      },
      "source": [
        "### Interpreting the model prediction\n",
        "\n",
        "**Exercise**:\n",
        "- Feed this test sequence into the model. What is the shape of the output?\n",
        "- Get the argmax of each output prediction to get the most likely symbols\n",
        "- Dismiss the padding / end of sentence\n",
        "- Convert to readable vocabulary using `rev_shared_vocab`\n",
        "\n",
        "*Interpretation*\n",
        "- Compare the output with the first example in numerical format `num_test[0]`\n",
        "- What do you think of this way of decoding? Is it correct to use it at inference time?"
      ]
    },
    {
      "cell_type": "code",
      "execution_count": 54,
      "metadata": {
        "colab": {
          "base_uri": "https://localhost:8080/"
        },
        "id": "W6lVfekXjIfN",
        "outputId": "98ba325c-cc81-4ec5-fd41-59ea851cd6eb"
      },
      "outputs": [
        {
          "output_type": "stream",
          "name": "stdout",
          "text": [
            "\u001b[1m1/1\u001b[0m \u001b[32m━━━━━━━━━━━━━━━━━━━━\u001b[0m\u001b[37m\u001b[0m \u001b[1m0s\u001b[0m 286ms/step\n",
            "Output shape: (1, 20, 40)\n"
          ]
        }
      ],
      "source": [
        "# Feed the first test sequence into the model\n",
        "output = simple_seq2seq.predict(first_test_sequence)\n",
        "print(\"Output shape:\", output.shape)"
      ]
    },
    {
      "cell_type": "code",
      "source": [
        "import numpy as np\n",
        "predicted_indices = np.argmax(output, axis=-1)\n",
        "print(\"Predicted indices:\", predicted_indices)"
      ],
      "metadata": {
        "colab": {
          "base_uri": "https://localhost:8080/"
        },
        "id": "irClKOtusZDT",
        "outputId": "0e0a9efd-424a-4b3e-c280-85d48487ba81"
      },
      "execution_count": 56,
      "outputs": [
        {
          "output_type": "stream",
          "name": "stdout",
          "text": [
            "Predicted indices: [[ 0  0  0  0  0  0  0  0  0  0  0  0  0  0 13 10  6  7 11  2]]\n"
          ]
        }
      ]
    },
    {
      "cell_type": "markdown",
      "metadata": {
        "id": "20aiAKxdjIfN"
      },
      "source": [
        "In the previous exercise we cheated because we gave the complete sequence along with the solution in the input sequence.\n",
        "\n",
        "To be more realistic we need to use the model in a setting where we do not provide any token of expected translation as part of the input sequence: the model shall predict one token at a time starting only from the source sequence along with the `<GO>` special symbol. At each step, we append the new predicted output token in the input sequence to predict the next token:"
      ]
    },
    {
      "cell_type": "code",
      "execution_count": 57,
      "metadata": {
        "id": "q0KRZWqgjIfN"
      },
      "outputs": [],
      "source": [
        "def greedy_translate(model, source_sequence, shared_vocab, rev_shared_vocab,\n",
        "                     word_level_source=True, word_level_target=True):\n",
        "    \"\"\"Greedy decoder recursively predicting one token at a time\"\"\"\n",
        "    # Initialize the list of input token ids with the source sequence\n",
        "    source_tokens = tokenize(source_sequence, word_level=word_level_source)\n",
        "    input_ids = [shared_vocab.get(t, UNK) for t in reversed(source_tokens)]\n",
        "    input_ids += [shared_vocab[GO]]\n",
        "\n",
        "    # Prepare a fixed size numpy array that matches the expected input\n",
        "    # shape for the model\n",
        "    input_array = np.empty(shape=(1, model.input_shape[1]),\n",
        "                           dtype=np.int32)\n",
        "    decoded_tokens = []\n",
        "    while len(input_ids) <= max_length:\n",
        "        # Vectorize a the list of input tokens as\n",
        "        # and use zeros padding.\n",
        "        input_array.fill(shared_vocab[PAD])\n",
        "        input_array[0, -len(input_ids):] = input_ids\n",
        "\n",
        "        # Predict the next output: greedy decoding with argmax\n",
        "        next_token_id = model(input_array)[0, -1].numpy().argmax()\n",
        "\n",
        "        # Stop decoding if the network predicts end of sentence:\n",
        "        if next_token_id == shared_vocab[EOS]:\n",
        "            break\n",
        "\n",
        "        # Otherwise use the reverse vocabulary to map the prediction\n",
        "        # back to the string space\n",
        "        decoded_tokens.append(rev_shared_vocab[next_token_id])\n",
        "\n",
        "        # Append prediction to input sequence to predict the next\n",
        "        input_ids.append(next_token_id)\n",
        "\n",
        "    separator = \" \" if word_level_target else \"\"\n",
        "    return separator.join(decoded_tokens)"
      ]
    },
    {
      "cell_type": "code",
      "execution_count": 58,
      "metadata": {
        "colab": {
          "base_uri": "https://localhost:8080/"
        },
        "id": "EvVBBLEbjIfO",
        "outputId": "fbcb128d-cd29-4c3e-d8b3-ab36928f93ca"
      },
      "outputs": [
        {
          "output_type": "stream",
          "name": "stdout",
          "text": [
            "un                                       1\n",
            "deux                                     2\n",
            "trois                                    3\n",
            "onze                                     10\n",
            "quinze                                   15\n",
            "cent trente deux                         132\n",
            "cent mille douze                         100102\n",
            "sept mille huit cent cinquante neuf      7859\n",
            "vingt et un                              21\n",
            "vingt quatre                             28\n",
            "quatre vingts                            43\n",
            "quatre vingt onze mille                  91000\n",
            "quatre vingt onze mille deux cent deux   91202\n"
          ]
        }
      ],
      "source": [
        "phrases = [\n",
        "    \"un\",\n",
        "    \"deux\",\n",
        "    \"trois\",\n",
        "    \"onze\",\n",
        "    \"quinze\",\n",
        "    \"cent trente deux\",\n",
        "    \"cent mille douze\",\n",
        "    \"sept mille huit cent cinquante neuf\",\n",
        "    \"vingt et un\",\n",
        "    \"vingt quatre\",\n",
        "    \"quatre vingts\",\n",
        "    \"quatre vingt onze mille\",\n",
        "    \"quatre vingt onze mille deux cent deux\",\n",
        "]\n",
        "for phrase in phrases:\n",
        "    translation = greedy_translate(simple_seq2seq, phrase,\n",
        "                                   shared_vocab, rev_shared_vocab,\n",
        "                                   word_level_target=False)\n",
        "    print(phrase.ljust(40), translation)"
      ]
    },
    {
      "cell_type": "markdown",
      "metadata": {
        "id": "jUGR75sejIfO"
      },
      "source": [
        "The results are far from perfect but we can see that the network has already picked up some translation skills.\n",
        "\n",
        "Why does the partially trained network is able to give the correct translation for:\n",
        "\n",
        "`\"sept mille huit cent cinquante neuf\"`\n",
        "\n",
        "but not for:\n",
        "\n",
        "`\"cent mille douze\"` ?\n",
        "\n",
        "The answer is as following:\n",
        "- it is rather easy for the network to learn a mapping between symbols (first case), by dismissing `\"cent\"` and `\"mille\"`;\n",
        "- outputing the right amount of symbols, especially `0s` for `\"cent mille douze\"` requires more reasoning and ability to count."
      ]
    },
    {
      "cell_type": "markdown",
      "metadata": {
        "id": "T8HoOtzpjIfO"
      },
      "source": [
        "Let's have a look at generalization out of correct French and see if the network would generalize like a French speaker would do:"
      ]
    },
    {
      "cell_type": "code",
      "execution_count": 59,
      "metadata": {
        "colab": {
          "base_uri": "https://localhost:8080/"
        },
        "id": "dZjOBUDXjIfO",
        "outputId": "5122b9c8-8939-4712-a236-cc37998c5ef9"
      },
      "outputs": [
        {
          "output_type": "stream",
          "name": "stdout",
          "text": [
            "quatre vingt et un                       81\n",
            "quarante douze                           490\n",
            "onze mille soixante vingt sept           11077\n",
            "deux mille soixante vingt quatorze       2094\n"
          ]
        }
      ],
      "source": [
        "phrases = [\n",
        "    \"quatre vingt et un\",\n",
        "    \"quarante douze\",\n",
        "    \"onze mille soixante vingt sept\",\n",
        "    \"deux mille soixante vingt quatorze\",\n",
        "]\n",
        "for phrase in phrases:\n",
        "    translation = greedy_translate(simple_seq2seq, phrase,\n",
        "                                   shared_vocab, rev_shared_vocab,\n",
        "                                   word_level_target=False)\n",
        "    print(phrase.ljust(40), translation)"
      ]
    },
    {
      "cell_type": "markdown",
      "metadata": {
        "id": "Nm6PcMfAjIfO"
      },
      "source": [
        "## Model evaluation\n",
        "\n",
        "Because **we expect only one correct translation** for a given source sequence, we can use **phrase-level accuracy** as a metric to quantify our model quality.\n",
        "\n",
        "Note that **this is not the case for real translation models** (e.g. from French to English on arbitrary sentences). Evaluation of a machine translation model is tricky in general. Automated evaluation can somehow be done at the corpus level with the [BLEU score](https://en.wikipedia.org/wiki/BLEU) (bilingual evaluation understudy) given a large enough sample of correct translations provided by certified translators but its only a noisy proxy.\n",
        "\n",
        "The only good evaluation is to give a large enough sample of the model predictions on some test sentences to certified translators and ask them to give an evaluation (e.g. a score between 0 and 6, 0 for non-sensical and 6 for the hypothetical perfect translation). However in practice this is very costly to do.\n",
        "\n",
        "Fortunately we can just use phrase-level accuracy on a our very domain specific toy problem:"
      ]
    },
    {
      "cell_type": "code",
      "execution_count": 60,
      "metadata": {
        "id": "i1Lx83FOjIfO"
      },
      "outputs": [],
      "source": [
        "def phrase_accuracy(model, num_sequences, fr_sequences, n_samples=300,\n",
        "                    decoder_func=greedy_translate):\n",
        "    correct = []\n",
        "    n_samples = len(num_sequences) if n_samples is None else n_samples\n",
        "    for i, num_seq, fr_seq in zip(range(n_samples), num_sequences, fr_sequences):\n",
        "        if i % 100 == 0:\n",
        "            print(\"Decoding %d/%d\" % (i, n_samples))\n",
        "\n",
        "        predicted_seq = decoder_func(simple_seq2seq, fr_seq,\n",
        "                                     shared_vocab, rev_shared_vocab,\n",
        "                                     word_level_target=False)\n",
        "        correct.append(num_seq == predicted_seq)\n",
        "    return np.mean(correct)"
      ]
    },
    {
      "cell_type": "code",
      "execution_count": 61,
      "metadata": {
        "colab": {
          "base_uri": "https://localhost:8080/"
        },
        "id": "0qC6YO7yjIfO",
        "outputId": "a5e0c9b8-c19a-4ff6-ff86-ae9574b5eb78"
      },
      "outputs": [
        {
          "output_type": "stream",
          "name": "stdout",
          "text": [
            "Decoding 0/300\n",
            "Decoding 100/300\n",
            "Decoding 200/300\n",
            "Phrase-level train accuracy: 1.000\n"
          ]
        }
      ],
      "source": [
        "print(\"Phrase-level train accuracy: %0.3f\"\n",
        "      % phrase_accuracy(simple_seq2seq, num_train, fr_train))"
      ]
    },
    {
      "cell_type": "code",
      "execution_count": 62,
      "metadata": {
        "colab": {
          "base_uri": "https://localhost:8080/"
        },
        "id": "OuKkBMmCjIfO",
        "outputId": "7a3fdcc4-f97f-44e0-f21a-b2e59d7cf300"
      },
      "outputs": [
        {
          "output_type": "stream",
          "name": "stdout",
          "text": [
            "Decoding 0/300\n",
            "Decoding 100/300\n",
            "Decoding 200/300\n",
            "Phrase-level test accuracy: 0.997\n"
          ]
        }
      ],
      "source": [
        "print(\"Phrase-level test accuracy: %0.3f\"\n",
        "      % phrase_accuracy(simple_seq2seq, num_test, fr_test))"
      ]
    },
    {
      "cell_type": "markdown",
      "metadata": {
        "id": "OMHPBAmejIfO"
      },
      "source": [
        "## Bonus: Decoding with a Beam Search\n",
        "\n",
        "Instead of decoding with greedy strategy that only considers the most-likely next token at each prediction, we can hold a priority queue of the most promising top-n sequences ordered by loglikelihoods.\n",
        "\n",
        "This could potentially improve the final accuracy of an imperfect model: indeed it can be the case that the most likely sequence (based on the conditional proability estimated by the model) starts with a character that is not the most likely alone.\n",
        "\n",
        "**Bonus Exercise:**\n",
        "- build a beam_translate function which decodes candidate translations with a beam search strategy\n",
        "- use a list of candidates, tracking `beam_size` candidates and their corresponding likelihood\n",
        "- compute predictions for the next outputs by using predict with a batch of the size of the beam\n",
        "- be careful to stop appending results if EOS symbols have been found for each candidate!"
      ]
    },
    {
      "cell_type": "code",
      "execution_count": null,
      "metadata": {
        "id": "DppsyCWgjIfP"
      },
      "outputs": [],
      "source": [
        "def beam_translate(model, source_sequence, shared_vocab, rev_shared_vocab,\n",
        "                   word_level_source=True, word_level_target=True,\n",
        "                   beam_size=10, return_ll=False):\n",
        "    \"\"\"Decode candidate translations with a beam search strategy\n",
        "\n",
        "    If return_ll is False, only the best candidate string is returned.\n",
        "    If return_ll is True, all the candidate strings and their loglikelihoods\n",
        "    are returned.\n",
        "    \"\"\""
      ]
    },
    {
      "cell_type": "code",
      "execution_count": null,
      "metadata": {
        "id": "kb8-fkH1jIfP"
      },
      "outputs": [],
      "source": [
        "# Verify your solution by a tutor\n",
        "def beam_translate(model, source_sequence, shared_vocab, rev_shared_vocab,\n",
        "                   word_level_source=True, word_level_target=True,\n",
        "                   beam_size=10, return_ll=False):\n",
        "    \"\"\"Decode candidate translations with a beam search strategy\n",
        "\n",
        "    If return_ll is False, only the best candidate string is returned.\n",
        "    If return_ll is True, all the candidate strings and their loglikelihoods\n",
        "    are returned.\n",
        "    \"\"\"\n",
        "    # Initialize the list of input token ids with the source sequence\n",
        "    source_tokens = tokenize(source_sequence, word_level=word_level_source)\n",
        "    input_ids = [shared_vocab.get(t, UNK) for t in source_tokens[::-1]]\n",
        "    input_ids += [shared_vocab[GO]]\n",
        "\n",
        "    # initialize loglikelihood, input token ids, decoded tokens for\n",
        "    # each candidate in the beam\n",
        "    candidates = [(0, input_ids[:], [], False)]\n",
        "\n",
        "    # Prepare a fixed size numpy array that matches the expected input\n",
        "    # shape for the model\n",
        "    input_array = np.empty(shape=(beam_size, model.input_shape[1]),\n",
        "                           dtype=np.int32)\n",
        "    while any([not done and (len(input_ids) < max_length)\n",
        "               for _, input_ids, _, done in candidates]):\n",
        "        # Vectorize a the list of input tokens and use zeros padding.\n",
        "        input_array.fill(shared_vocab[PAD])\n",
        "        for i, (_, input_ids, _, done) in enumerate(candidates):\n",
        "            if not done:\n",
        "                input_array[i, -len(input_ids):] = input_ids\n",
        "\n",
        "        # Predict the next output in a single call to the model to amortize\n",
        "        # the overhead and benefit from vector data parallelism on GPU.\n",
        "        next_likelihood_batch = model(input_array).numpy()\n",
        "\n",
        "        # Build the new candidates list by summing the loglikelood of the\n",
        "        # next token with their parents for each new possible expansion.\n",
        "        new_candidates = []\n",
        "        for i, (ll, input_ids, decoded, done) in enumerate(candidates):\n",
        "            if done:\n",
        "                new_candidates.append((ll, input_ids, decoded, done))\n",
        "            else:\n",
        "                next_loglikelihoods = np.log(next_likelihood_batch[i, -1])\n",
        "                for next_token_id, next_ll in enumerate(next_loglikelihoods):\n",
        "                    new_ll = ll + next_ll\n",
        "                    new_input_ids = input_ids[:]\n",
        "                    new_input_ids.append(next_token_id)\n",
        "                    new_decoded = decoded[:]\n",
        "                    new_done = done\n",
        "                    if next_token_id == shared_vocab[EOS]:\n",
        "                        new_done = True\n",
        "                    if not new_done:\n",
        "                        new_decoded.append(rev_shared_vocab[next_token_id])\n",
        "                    new_candidates.append(\n",
        "                        (new_ll, new_input_ids, new_decoded, new_done))\n",
        "\n",
        "        # Only keep a beam of the most promising candidates\n",
        "        new_candidates.sort(reverse=True)\n",
        "        candidates = new_candidates[:beam_size]\n",
        "\n",
        "    separator = \" \" if word_level_target else \"\"\n",
        "    if return_ll:\n",
        "        return [(separator.join(decoded), ll) for ll, _, decoded, _ in candidates]\n",
        "    else:\n",
        "        _, _, decoded, done = candidates[0]\n",
        "        return separator.join(decoded)\n"
      ]
    },
    {
      "cell_type": "code",
      "execution_count": null,
      "metadata": {
        "id": "9wc3B--KjIfP"
      },
      "outputs": [],
      "source": [
        "candidates = beam_translate(simple_seq2seq, \"cent mille un\",\n",
        "                            shared_vocab, rev_shared_vocab,\n",
        "                            word_level_target=False,\n",
        "                            return_ll=True, beam_size=10)\n",
        "candidates"
      ]
    },
    {
      "cell_type": "code",
      "execution_count": null,
      "metadata": {
        "id": "SIO07n67jIfP"
      },
      "outputs": [],
      "source": [
        "candidates = beam_translate(simple_seq2seq, \"quatre vingts\",\n",
        "                            shared_vocab, rev_shared_vocab,\n",
        "                            word_level_target=False,\n",
        "                            return_ll=True, beam_size=10)\n",
        "candidates"
      ]
    },
    {
      "cell_type": "markdown",
      "metadata": {
        "id": "9UjoVZD2jIfP"
      },
      "source": [
        "## Model Accuracy with Beam Search Decoding"
      ]
    },
    {
      "cell_type": "code",
      "execution_count": null,
      "metadata": {
        "id": "5DRLnwfnjIfQ"
      },
      "outputs": [],
      "source": [
        "print(\"Phrase-level test accuracy: %0.3f\"\n",
        "      % phrase_accuracy(simple_seq2seq, num_test, fr_test,\n",
        "                        decoder_func=beam_translate))"
      ]
    },
    {
      "cell_type": "code",
      "execution_count": null,
      "metadata": {
        "id": "A8wYDcgujIfQ"
      },
      "outputs": [],
      "source": [
        "print(\"Phrase-level train accuracy: %0.3f\"\n",
        "      % phrase_accuracy(simple_seq2seq, num_train, fr_train,\n",
        "                        decoder_func=beam_translate))"
      ]
    },
    {
      "cell_type": "markdown",
      "metadata": {
        "id": "s-5tST8UjIfQ"
      },
      "source": [
        "When using the partially trained model the test phrase-level is slightly better (0.38 vs 0.37) with the beam decoder than with the greedy decoder. However the improvement is not that important on our toy task. Training the model to convergence would yield a perfect score on the test set anyway.\n",
        "\n",
        "Properly tuned beam search decoding can be critical to improve the quality of Machine Translation systems trained on natural language pairs though."
      ]
    },
    {
      "cell_type": "markdown",
      "metadata": {
        "id": "AI2R8DKXjIfQ"
      },
      "source": [
        "# Going Further\n",
        "\n",
        "We only scratched the surface of sequence-to-sequence systems. To go further, we recommend reading the initial [Sequence to Sequence paper](https://arxiv.org/abs/1409.3215) as well as the following developments, citing this work. Furthermore, here are a few pointers on how to go further if you're interested.\n",
        "\n",
        "### Improved model\n",
        "\n",
        "- Add multiple, larger GRU layers and more dropout regularization.\n",
        "- This should make it possible train a perfect translation model with a smaller amount of labeled samples. Try to train a seq2seq model with only 4000 training sequences or even fewer without overfitting.\n",
        "- You will need a GPU and more training time for that.\n",
        "\n",
        "### Reverse translation: Numeric to French\n",
        "\n",
        "- Build a model, with the same data from Numeric to French\n",
        "- The model should fine work with the same kind of architecture\n",
        "\n",
        "\n",
        "### Separated Encoder-Decoder\n",
        "\n",
        "We may want to build a model with a separated encoder and decoder, to improve performance and be more flexible with the architecture.\n",
        "\n",
        "With Keras, you can get access to the activation states of the LSTM cell by using:\n",
        "\n",
        "```python\n",
        "encoder = LSTM(latent_dim, return_state=True)\n",
        "encoder_outputs, state_h, state_c = encoder(encoder_inputs)\n",
        "encoder_states = [state_h, state_c]\n",
        "```\n",
        "\n",
        "then you can reuse those states to initialize the state of the decoder cell:\n",
        "\n",
        "```python\n",
        "decoder_lstm = LSTM(latent_dim, return_sequences=True, return_state=True)\n",
        "decoder_outputs, _, _ = decoder_lstm(decoder_inputs, initial_state=encoder_states)\n",
        "```\n",
        "\n",
        "A full example of this architecture can be found at:\n",
        "\n",
        "- https://github.com/keras-team/keras/blob/master/examples/lstm_seq2seq.py\n",
        "\n",
        "**Exercise**:\n",
        "\n",
        "- Implement the Encoder-Decoder Seq2Seq architecture an apply it to the French numbers dataset.\n",
        "\n",
        "### Attention models\n",
        "\n",
        "Instead of initializing the decoder with the encoder states, it is possible to use an attention-model.\n",
        "\n",
        "At the time of writing Keras does not yet have an turn-key attentional mechanism layer but it's possible to build one by assembling lower level building blocks. For instance see:\n",
        "\n",
        "- https://github.com/keras-team/keras/issues/1472#issuecomment-172095544\n",
        "\n",
        "Attention models are efficient to model longer sequences, to find alignment between input and output sequences, and to model different parts of sequences with seperated meanings\n",
        "\n",
        "Other frameworks also have working examples of attention mechanisms:\n",
        "\n",
        "- A good implementation is available for translation here: https://github.com/OpenNMT/OpenNMT-py\n",
        "- TensorFlow also has working examples: https://google.github.io/seq2seq/\n",
        "\n",
        "\n",
        "### Mastering Neural Machine Translation\n",
        "\n",
        "In complement to studying the TensorFlow seq2seq and OpenNMT code base, you might also want to read the following 55 pages tutorial:\n",
        "\n",
        "[Neural Machine Translation and Sequence-to-sequence Models: A Tutorial](https://arxiv.org/abs/1703.01619) by Graham Neubig."
      ]
    },
    {
      "cell_type": "code",
      "execution_count": null,
      "metadata": {
        "id": "GKN1Ap88jIfQ"
      },
      "outputs": [],
      "source": []
    }
  ],
  "metadata": {
    "kernelspec": {
      "display_name": "Python 3",
      "language": "python",
      "name": "python3"
    },
    "language_info": {
      "codemirror_mode": {
        "name": "ipython",
        "version": 3
      },
      "file_extension": ".py",
      "mimetype": "text/x-python",
      "name": "python",
      "nbconvert_exporter": "python",
      "pygments_lexer": "ipython3",
      "version": "3.5.2"
    },
    "colab": {
      "provenance": []
    }
  },
  "nbformat": 4,
  "nbformat_minor": 0
}