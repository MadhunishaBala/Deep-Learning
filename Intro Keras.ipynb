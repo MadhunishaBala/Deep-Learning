{
 "cells": [
  {
   "cell_type": "markdown",
   "metadata": {},
   "source": [
    "# Training Neural Networks with Keras\n",
    "\n",
    "### Goals: \n",
    "- Intro: train a neural network with `tensorflow` and the Keras layers\n",
    "\n",
    "### Dataset:\n",
    "- Digits: 10 class handwritten digits\n",
    "- http://scikit-learn.org/stable/modules/generated/sklearn.datasets.load_digits.html#sklearn.datasets.load_digits"
   ]
  },
  {
   "cell_type": "code",
   "metadata": {
    "ExecuteTime": {
     "end_time": "2024-10-04T17:54:31.070790Z",
     "start_time": "2024-10-04T17:54:31.028558Z"
    }
   },
   "source": [
    "import matplotlib.pyplot as plt\n",
    "import numpy as np\n",
    "from sklearn.datasets import load_digits\n",
    "\n",
    "digits = load_digits()"
   ],
   "outputs": [],
   "execution_count": 7
  },
  {
   "cell_type": "code",
   "metadata": {
    "ExecuteTime": {
     "end_time": "2024-10-04T17:54:31.100407Z",
     "start_time": "2024-10-04T17:54:31.088552Z"
    }
   },
   "source": [
    "digits.images.shape"
   ],
   "outputs": [
    {
     "data": {
      "text/plain": [
       "(1797, 8, 8)"
      ]
     },
     "execution_count": 8,
     "metadata": {},
     "output_type": "execute_result"
    }
   ],
   "execution_count": 8
  },
  {
   "cell_type": "code",
   "metadata": {
    "ExecuteTime": {
     "end_time": "2024-10-04T17:54:31.154293Z",
     "start_time": "2024-10-04T17:54:31.136212Z"
    }
   },
   "source": [
    "digits.data.shape"
   ],
   "outputs": [
    {
     "data": {
      "text/plain": [
       "(1797, 64)"
      ]
     },
     "execution_count": 9,
     "metadata": {},
     "output_type": "execute_result"
    }
   ],
   "execution_count": 9
  },
  {
   "cell_type": "code",
   "metadata": {
    "ExecuteTime": {
     "end_time": "2024-10-04T17:54:31.212720Z",
     "start_time": "2024-10-04T17:54:31.207159Z"
    }
   },
   "source": [
    "digits.target.shape"
   ],
   "outputs": [
    {
     "data": {
      "text/plain": [
       "(1797,)"
      ]
     },
     "execution_count": 10,
     "metadata": {},
     "output_type": "execute_result"
    }
   ],
   "execution_count": 10
  },
  {
   "cell_type": "code",
   "metadata": {
    "ExecuteTime": {
     "end_time": "2024-10-04T17:54:31.431712Z",
     "start_time": "2024-10-04T17:54:31.284652Z"
    }
   },
   "source": [
    "sample_index = 45\n",
    "plt.figure(figsize=(3, 3))\n",
    "plt.imshow(digits.images[sample_index], cmap=plt.cm.gray_r,\n",
    "           interpolation='nearest')\n",
    "plt.title(\"image label: %d\" % digits.target[sample_index]);"
   ],
   "outputs": [
    {
     "data": {
      "text/plain": [
       "<Figure size 300x300 with 1 Axes>"
      ],
      "image/png": "[encoded data removed]"
     },
     "metadata": {},
     "output_type": "display_data"
    }
   ],
   "execution_count": 11
  },
  {
   "cell_type": "markdown",
   "metadata": {},
   "source": [
    "## Train / Test Split\n",
    "\n",
    "Let's keep some held-out data to be able to measure the generalization performance of our model."
   ]
  },
  {
   "cell_type": "code",
   "metadata": {
    "ExecuteTime": {
     "end_time": "2024-10-04T17:54:31.504080Z",
     "start_time": "2024-10-04T17:54:31.490741Z"
    }
   },
   "source": [
    "from sklearn.model_selection import train_test_split\n",
    "\n",
    "\n",
    "data = np.asarray(digits.data, dtype='float32')\n",
    "target = np.asarray(digits.target, dtype='int32')\n",
    "\n",
    "X_train, X_test, y_train, y_test = train_test_split(\n",
    "    data, target, test_size=0.15, random_state=37)"
   ],
   "outputs": [],
   "execution_count": 12
  },
  {
   "cell_type": "code",
   "metadata": {
    "ExecuteTime": {
     "end_time": "2024-10-04T17:54:31.530324Z",
     "start_time": "2024-10-04T17:54:31.511523Z"
    }
   },
   "source": [
    "X_train.shape"
   ],
   "outputs": [
    {
     "data": {
      "text/plain": [
       "(1527, 64)"
      ]
     },
     "execution_count": 13,
     "metadata": {},
     "output_type": "execute_result"
    }
   ],
   "execution_count": 13
  },
  {
   "cell_type": "code",
   "metadata": {
    "ExecuteTime": {
     "end_time": "2024-10-04T17:54:31.724730Z",
     "start_time": "2024-10-04T17:54:31.694179Z"
    }
   },
   "source": [
    "X_test.shape"
   ],
   "outputs": [
    {
     "data": {
      "text/plain": [
       "(270, 64)"
      ]
     },
     "execution_count": 14,
     "metadata": {},
     "output_type": "execute_result"
    }
   ],
   "execution_count": 14
  },
  {
   "cell_type": "code",
   "metadata": {
    "ExecuteTime": {
     "end_time": "2024-10-04T17:54:31.782543Z",
     "start_time": "2024-10-04T17:54:31.761535Z"
    }
   },
   "source": [
    "y_train.shape"
   ],
   "outputs": [
    {
     "data": {
      "text/plain": [
       "(1527,)"
      ]
     },
     "execution_count": 15,
     "metadata": {},
     "output_type": "execute_result"
    }
   ],
   "execution_count": 15
  },
  {
   "cell_type": "code",
   "metadata": {
    "ExecuteTime": {
     "end_time": "2024-10-04T17:54:31.829866Z",
     "start_time": "2024-10-04T17:54:31.815616Z"
    }
   },
   "source": [
    "y_test.shape"
   ],
   "outputs": [
    {
     "data": {
      "text/plain": [
       "(270,)"
      ]
     },
     "execution_count": 16,
     "metadata": {},
     "output_type": "execute_result"
    }
   ],
   "execution_count": 16
  },
  {
   "cell_type": "markdown",
   "metadata": {},
   "source": [
    "## Preprocessing of the Input Data\n",
    "\n",
    "\n",
    "Make sure that all input variables are approximately on the same scale via input normalization:"
   ]
  },
  {
   "cell_type": "code",
   "metadata": {
    "ExecuteTime": {
     "end_time": "2024-10-04T17:54:31.912693Z",
     "start_time": "2024-10-04T17:54:31.902742Z"
    }
   },
   "source": [
    "from sklearn import preprocessing\n",
    "\n",
    "\n",
    "# mean = 0 ; standard deviation = 1.0\n",
    "scaler = preprocessing.StandardScaler()\n",
    "X_train = scaler.fit_transform(X_train)\n",
    "X_test = scaler.transform(X_test)\n",
    "\n",
    "# print(scaler.mean_)\n",
    "# print(scaler.scale_)"
   ],
   "outputs": [],
   "execution_count": 17
  },
  {
   "cell_type": "code",
   "metadata": {
    "ExecuteTime": {
     "end_time": "2024-10-04T17:54:31.948040Z",
     "start_time": "2024-10-04T17:54:31.937896Z"
    }
   },
   "source": [
    "X_train.shape"
   ],
   "outputs": [
    {
     "data": {
      "text/plain": [
       "(1527, 64)"
      ]
     },
     "execution_count": 18,
     "metadata": {},
     "output_type": "execute_result"
    }
   ],
   "execution_count": 18
  },
  {
   "cell_type": "code",
   "metadata": {
    "ExecuteTime": {
     "end_time": "2024-10-04T17:54:31.998038Z",
     "start_time": "2024-10-04T17:54:31.984718Z"
    }
   },
   "source": [
    "X_train.mean(axis=0)"
   ],
   "outputs": [
    {
     "data": {
      "text/plain": [
       "array([ 0.00000000e+00,  1.82717315e-07,  1.44815475e-08, -3.13441575e-08,\n",
       "       -7.49449391e-09, -9.50473567e-09, -7.10805850e-08,  6.18783673e-08,\n",
       "       -3.06025143e-08,  1.31056055e-07,  3.27103429e-08, -3.59111163e-09,\n",
       "       -4.29372049e-09, -1.07733342e-08, -1.92827070e-08, -7.90239696e-08,\n",
       "        1.56408518e-07, -2.18589391e-09,  2.89630950e-08, -1.74090840e-08,\n",
       "        6.71381741e-08,  5.87068669e-08, -9.85213617e-08, -4.79598782e-07,\n",
       "       -2.98413561e-08, -4.19223234e-08, -1.82522143e-07,  1.79555570e-08,\n",
       "       -3.11294706e-08,  2.08440607e-08, -6.83091841e-08,  9.33420665e-07,\n",
       "        0.00000000e+00,  1.78774897e-08,  1.50670544e-07, -3.45839659e-08,\n",
       "       -1.02463780e-08, -3.66137236e-08, -5.67551766e-08,  0.00000000e+00,\n",
       "       -2.17120757e-07, -6.30981702e-08, -1.81116935e-08, -2.62307278e-08,\n",
       "       -7.95509294e-08, -1.95169103e-09, -8.23613622e-09,  4.77871538e-08,\n",
       "       -1.66303593e-07, -1.25688899e-07, -2.30299548e-08, -1.13198082e-08,\n",
       "        2.51387576e-07, -9.99265826e-09,  3.74724678e-08, -1.85410653e-09,\n",
       "        2.62295089e-07, -8.66550849e-08,  1.06952669e-08,  1.99462828e-08,\n",
       "        4.32494751e-08,  1.00551127e-07, -1.32480793e-07, -7.56280301e-08],\n",
       "      dtype=float32)"
      ]
     },
     "execution_count": 19,
     "metadata": {},
     "output_type": "execute_result"
    }
   ],
   "execution_count": 19
  },
  {
   "cell_type": "code",
   "metadata": {
    "ExecuteTime": {
     "end_time": "2024-10-04T17:54:32.066775Z",
     "start_time": "2024-10-04T17:54:32.047118Z"
    }
   },
   "source": [
    "X_train.std(axis=0)"
   ],
   "outputs": [
    {
     "data": {
      "text/plain": [
       "array([0.        , 0.99999774, 0.9999994 , 1.0000005 , 0.9999989 ,\n",
       "       0.9999988 , 1.0000077 , 0.9999965 , 1.0000098 , 0.9999947 ,\n",
       "       1.0000007 , 0.9999992 , 0.9999999 , 0.99999684, 0.9999984 ,\n",
       "       0.99999887, 0.9999969 , 1.000001  , 1.0000002 , 1.0000025 ,\n",
       "       0.99999905, 1.000004  , 1.0000008 , 0.9999972 , 0.9999967 ,\n",
       "       0.99999726, 1.        , 1.0000007 , 1.0000029 , 0.9999996 ,\n",
       "       0.99999696, 1.0000001 , 0.        , 1.0000007 , 1.0000023 ,\n",
       "       0.9999993 , 0.9999994 , 0.9999997 , 0.9999955 , 0.        ,\n",
       "       0.9999891 , 0.99999785, 1.0000032 , 0.9999999 , 0.99999756,\n",
       "       1.000001  , 0.999996  , 0.9999987 , 1.0000006 , 0.9999936 ,\n",
       "       1.0000038 , 1.0000004 , 1.0000012 , 0.999997  , 0.99999785,\n",
       "       0.9999988 , 0.9999857 , 1.0000073 , 0.9999967 , 1.0000031 ,\n",
       "       0.9999993 , 1.        , 0.999996  , 0.9999977 ], dtype=float32)"
      ]
     },
     "execution_count": 20,
     "metadata": {},
     "output_type": "execute_result"
    }
   ],
   "execution_count": 20
  },
  {
   "cell_type": "markdown",
   "metadata": {},
   "source": [
    "Let's display the one of the transformed sample (after feature standardization):"
   ]
  },
  {
   "cell_type": "code",
   "metadata": {
    "ExecuteTime": {
     "end_time": "2024-10-04T17:54:32.293322Z",
     "start_time": "2024-10-04T17:54:32.125744Z"
    }
   },
   "source": [
    "sample_index = 45\n",
    "plt.figure(figsize=(3, 3))\n",
    "plt.imshow(X_train[sample_index].reshape(8, 8),\n",
    "           cmap=plt.cm.gray_r, interpolation='nearest')\n",
    "plt.title(\"transformed sample\\n(standardization)\");"
   ],
   "outputs": [
    {
     "data": {
      "text/plain": [
       "<Figure size 300x300 with 1 Axes>"
      ],
      "image/png": "[encoded data removed]"
     },
     "metadata": {},
     "output_type": "display_data"
    }
   ],
   "execution_count": 21
  },
  {
   "cell_type": "markdown",
   "metadata": {},
   "source": [
    "The scaler objects makes it possible to recover the original sample:"
   ]
  },
  {
   "cell_type": "code",
   "metadata": {
    "ExecuteTime": {
     "end_time": "2024-10-04T17:54:32.471214Z",
     "start_time": "2024-10-04T17:54:32.315465Z"
    }
   },
   "source": [
    "plt.figure(figsize=(3, 3))\n",
    "plt.imshow(scaler.inverse_transform(X_train[sample_index:sample_index+1]).reshape(8, 8),\n",
    "           cmap=plt.cm.gray_r, interpolation='nearest')\n",
    "plt.title(\"original sample\");"
   ],
   "outputs": [
    {
     "data": {
      "text/plain": [
       "<Figure size 300x300 with 1 Axes>"
      ],
      "image/png": "[encoded data removed]"
     },
     "metadata": {},
     "output_type": "display_data"
    }
   ],
   "execution_count": 22
  },
  {
   "cell_type": "code",
   "metadata": {
    "ExecuteTime": {
     "end_time": "2024-10-04T17:54:32.526123Z",
     "start_time": "2024-10-04T17:54:32.515842Z"
    }
   },
   "source": [
    "print(X_train.shape, y_train.shape)"
   ],
   "outputs": [
    {
     "name": "stdout",
     "output_type": "stream",
     "text": [
      "(1527, 64) (1527,)\n"
     ]
    }
   ],
   "execution_count": 23
  },
  {
   "cell_type": "code",
   "metadata": {
    "ExecuteTime": {
     "end_time": "2024-10-04T17:54:32.576601Z",
     "start_time": "2024-10-04T17:54:32.561896Z"
    }
   },
   "source": [
    "print(X_test.shape, y_test.shape)"
   ],
   "outputs": [
    {
     "name": "stdout",
     "output_type": "stream",
     "text": [
      "(270, 64) (270,)\n"
     ]
    }
   ],
   "execution_count": 24
  },
  {
   "cell_type": "markdown",
   "metadata": {},
   "source": [
    "## Preprocessing of the Target Data\n",
    "\n",
    "\n",
    "To train a first neural network we also need to turn the target variable into a vector \"one-hot-encoding\" representation. Here are the labels of the first samples in the training set encoded as integers:"
   ]
  },
  {
   "cell_type": "code",
   "metadata": {
    "ExecuteTime": {
     "end_time": "2024-10-04T17:54:32.694897Z",
     "start_time": "2024-10-04T17:54:32.673166Z"
    }
   },
   "source": [
    "y_train[:3]"
   ],
   "outputs": [
    {
     "data": {
      "text/plain": [
       "array([2, 9, 5])"
      ]
     },
     "execution_count": 25,
     "metadata": {},
     "output_type": "execute_result"
    }
   ],
   "execution_count": 25
  },
  {
   "cell_type": "markdown",
   "metadata": {},
   "source": [
    "Keras provides a utility function to convert integer-encoded categorical variables as one-hot encoded values:"
   ]
  },
  {
   "cell_type": "code",
   "metadata": {
    "ExecuteTime": {
     "end_time": "2024-10-04T17:54:44.393385Z",
     "start_time": "2024-10-04T17:54:32.817661Z"
    }
   },
   "source": [
    "from keras.utils import to_categorical\n",
    "\n",
    "Y_train = to_categorical(y_train)\n",
    "Y_train[:3]"
   ],
   "outputs": [
    {
     "name": "stdout",
     "output_type": "stream",
     "text": [
      "WARNING:tensorflow:From C:\\Users\\admin\\anaconda3\\Lib\\site-packages\\keras\\src\\losses.py:2976: The name tf.losses.sparse_softmax_cross_entropy is deprecated. Please use tf.compat.v1.losses.sparse_softmax_cross_entropy instead.\n",
      "\n"
     ]
    },
    {
     "data": {
      "text/plain": [
       "array([[0., 0., 1., 0., 0., 0., 0., 0., 0., 0.],\n",
       "       [0., 0., 0., 0., 0., 0., 0., 0., 0., 1.],\n",
       "       [0., 0., 0., 0., 0., 1., 0., 0., 0., 0.]], dtype=float32)"
      ]
     },
     "execution_count": 26,
     "metadata": {},
     "output_type": "execute_result"
    }
   ],
   "execution_count": 26
  },
  {
   "cell_type": "code",
   "metadata": {
    "ExecuteTime": {
     "end_time": "2024-10-04T17:54:44.469497Z",
     "start_time": "2024-10-04T17:54:44.459078Z"
    }
   },
   "source": [
    "Y_train.shape"
   ],
   "outputs": [
    {
     "data": {
      "text/plain": [
       "(1527, 10)"
      ]
     },
     "execution_count": 27,
     "metadata": {},
     "output_type": "execute_result"
    }
   ],
   "execution_count": 27
  },
  {
   "cell_type": "markdown",
   "metadata": {},
   "source": [
    "## Feed Forward Neural Networks with Keras\n",
    "\n",
    "Objectives of this section:\n",
    "\n",
    "- Build and train a first feedforward network using `Keras`\n",
    "    - https://www.tensorflow.org/guide/keras/overview\n",
    "- Experiment with different optimizers, activations, size of layers, initializations\n",
    "\n",
    "### A First Keras Model"
   ]
  },
  {
   "cell_type": "markdown",
   "metadata": {},
   "source": [
    "We can now build an train a our first feed forward neural network using the high level API from keras:\n",
    "\n",
    "- first we define the model by stacking layers with the right dimensions\n",
    "- then we define a loss function and plug the SGD optimizer\n",
    "- then we feed the model the training data for fixed number of epochs"
   ]
  },
  {
   "cell_type": "code",
   "metadata": {
    "ExecuteTime": {
     "end_time": "2024-10-04T17:54:48.309701Z",
     "start_time": "2024-10-04T17:54:44.498539Z"
    }
   },
   "source": [
    "from keras.models import Sequential\n",
    "from keras.layers import Dense\n",
    "from keras import optimizers\n",
    "\n",
    "input_dim = X_train.shape[1]\n",
    "hidden_dim = 100\n",
    "output_dim = Y_train.shape[1]\n",
    "\n",
    "model = Sequential()\n",
    "model.add(Dense(hidden_dim, input_dim=input_dim, activation=\"tanh\"))\n",
    "model.add(Dense(output_dim, activation=\"softmax\"))\n",
    "\n",
    "model.compile(optimizer=optimizers.SGD(learning_rate=0.1),\n",
    "              loss='categorical_crossentropy', metrics=['accuracy'])\n",
    "\n",
    "history = model.fit(X_train, Y_train, validation_split=0.2, epochs=15, batch_size=32)"
   ],
   "outputs": [
    {
     "name": "stdout",
     "output_type": "stream",
     "text": [
      "WARNING:tensorflow:From C:\\Users\\admin\\anaconda3\\Lib\\site-packages\\keras\\src\\backend.py:873: The name tf.get_default_graph is deprecated. Please use tf.compat.v1.get_default_graph instead.\n",
      "\n",
      "Epoch 1/15\n",
      "WARNING:tensorflow:From C:\\Users\\admin\\anaconda3\\Lib\\site-packages\\keras\\src\\utils\\tf_utils.py:492: The name tf.ragged.RaggedTensorValue is deprecated. Please use tf.compat.v1.ragged.RaggedTensorValue instead.\n",
      "\n",
      "WARNING:tensorflow:From C:\\Users\\admin\\anaconda3\\Lib\\site-packages\\keras\\src\\engine\\base_layer_utils.py:384: The name tf.executing_eagerly_outside_functions is deprecated. Please use tf.compat.v1.executing_eagerly_outside_functions instead.\n",
      "\n",
      "39/39 [==============================] - 1s 10ms/step - loss: 0.9835 - accuracy: 0.7289 - val_loss: 0.4327 - val_accuracy: 0.9085\n",
      "Epoch 2/15\n",
      "39/39 [==============================] - 0s 3ms/step - loss: 0.3294 - accuracy: 0.9345 - val_loss: 0.2885 - val_accuracy: 0.9314\n",
      "Epoch 3/15\n",
      "39/39 [==============================] - 0s 3ms/step - loss: 0.2212 - accuracy: 0.9550 - val_loss: 0.2189 - val_accuracy: 0.9510\n",
      "Epoch 4/15\n",
      "39/39 [==============================] - 0s 4ms/step - loss: 0.1690 - accuracy: 0.9656 - val_loss: 0.1808 - val_accuracy: 0.9608\n",
      "Epoch 5/15\n",
      "39/39 [==============================] - 0s 3ms/step - loss: 0.1411 - accuracy: 0.9722 - val_loss: 0.1692 - val_accuracy: 0.9673\n",
      "Epoch 6/15\n",
      "39/39 [==============================] - 0s 3ms/step - loss: 0.1212 - accuracy: 0.9771 - val_loss: 0.1529 - val_accuracy: 0.9739\n",
      "Epoch 7/15\n",
      "39/39 [==============================] - 0s 3ms/step - loss: 0.1057 - accuracy: 0.9820 - val_loss: 0.1411 - val_accuracy: 0.9706\n",
      "Epoch 8/15\n",
      "39/39 [==============================] - 0s 4ms/step - loss: 0.0939 - accuracy: 0.9853 - val_loss: 0.1346 - val_accuracy: 0.9673\n",
      "Epoch 9/15\n",
      "39/39 [==============================] - 0s 3ms/step - loss: 0.0842 - accuracy: 0.9877 - val_loss: 0.1263 - val_accuracy: 0.9706\n",
      "Epoch 10/15\n",
      "39/39 [==============================] - 0s 3ms/step - loss: 0.0762 - accuracy: 0.9902 - val_loss: 0.1205 - val_accuracy: 0.9706\n",
      "Epoch 11/15\n",
      "39/39 [==============================] - 0s 4ms/step - loss: 0.0699 - accuracy: 0.9918 - val_loss: 0.1171 - val_accuracy: 0.9739\n",
      "Epoch 12/15\n",
      "39/39 [==============================] - 0s 3ms/step - loss: 0.0642 - accuracy: 0.9918 - val_loss: 0.1160 - val_accuracy: 0.9739\n",
      "Epoch 13/15\n",
      "39/39 [==============================] - 0s 3ms/step - loss: 0.0593 - accuracy: 0.9926 - val_loss: 0.1136 - val_accuracy: 0.9739\n",
      "Epoch 14/15\n",
      "39/39 [==============================] - 0s 4ms/step - loss: 0.0549 - accuracy: 0.9934 - val_loss: 0.1103 - val_accuracy: 0.9739\n",
      "Epoch 15/15\n",
      "39/39 [==============================] - 0s 3ms/step - loss: 0.0511 - accuracy: 0.9951 - val_loss: 0.1085 - val_accuracy: 0.9739\n"
     ]
    }
   ],
   "execution_count": 28
  },
  {
   "cell_type": "markdown",
   "metadata": {},
   "source": [
    "### Visualizing the Convergence\n",
    "\n",
    "Let's wrap the keras history info into a pandas dataframe for easier plotting:"
   ]
  },
  {
   "cell_type": "code",
   "metadata": {
    "ExecuteTime": {
     "end_time": "2024-10-04T17:54:48.361150Z",
     "start_time": "2024-10-04T17:54:48.348040Z"
    }
   },
   "source": [
    "import pandas as pd\n",
    "\n",
    "history_df = pd.DataFrame(history.history)\n",
    "history_df[\"epoch\"] = history.epoch"
   ],
   "outputs": [],
   "execution_count": 29
  },
  {
   "cell_type": "code",
   "metadata": {
    "ExecuteTime": {
     "end_time": "2024-10-04T17:54:49.282784Z",
     "start_time": "2024-10-04T17:54:48.716396Z"
    }
   },
   "source": [
    "fig, (ax0, ax1) = plt.subplots(nrows=2, sharex=True, figsize=(12, 6))\n",
    "history_df.plot(x=\"epoch\", y=[\"loss\", \"val_loss\"], ax=ax0)\n",
    "history_df.plot(x=\"epoch\", y=[\"accuracy\", \"val_accuracy\"], ax=ax1);"
   ],
   "outputs": [
    {
     "data": {
      "text/plain": [
       "<Figure size 1200x600 with 2 Axes>"
      ],
      "image/png": "[encoded data removed]"
     },
     "metadata": {},
     "output_type": "display_data"
    }
   ],
   "execution_count": 30
  },
  {
   "cell_type": "markdown",
   "metadata": {},
   "source": [
    "### Monitoring Convergence with Tensorboard\n",
    "\n",
    "Tensorboard is a built-in neural network monitoring tool. "
   ]
  },
  {
   "cell_type": "code",
   "metadata": {
    "ExecuteTime": {
     "end_time": "2024-10-04T17:54:49.320528Z",
     "start_time": "2024-10-04T17:54:49.297494Z"
    }
   },
   "source": [
    "%load_ext tensorboard"
   ],
   "outputs": [],
   "execution_count": 31
  },
  {
   "cell_type": "code",
   "metadata": {
    "ExecuteTime": {
     "end_time": "2024-10-04T17:54:49.392248Z",
     "start_time": "2024-10-04T17:54:49.345590Z"
    }
   },
   "source": [
    "!rm -rf tensorboard_logs"
   ],
   "outputs": [
    {
     "name": "stderr",
     "output_type": "stream",
     "text": [
      "'rm' is not recognized as an internal or external command,\n",
      "operable program or batch file.\n"
     ]
    }
   ],
   "execution_count": 32
  },
  {
   "cell_type": "code",
   "metadata": {
    "ExecuteTime": {
     "end_time": "2024-10-04T17:54:53.711872Z",
     "start_time": "2024-10-04T17:54:49.421005Z"
    }
   },
   "source": [
    "import datetime\n",
    "from keras.callbacks import TensorBoard\n",
    "\n",
    "model = Sequential()\n",
    "model.add(Dense(hidden_dim, input_dim=input_dim, activation=\"tanh\"))\n",
    "model.add(Dense(output_dim, activation=\"softmax\"))\n",
    "\n",
    "model.compile(optimizer=optimizers.SGD(learning_rate=0.1),\n",
    "              loss='categorical_crossentropy', metrics=['accuracy'])\n",
    "\n",
    "timestamp =  datetime.datetime.now().strftime(\"%Y%m%d-%H%M%S\")\n",
    "log_dir = \"tensorboard_logs/\" + timestamp\n",
    "tensorboard_callback = TensorBoard(log_dir=log_dir, histogram_freq=1)\n",
    "\n",
    "model.fit(x=X_train, y=Y_train, validation_split=0.2, epochs=15,\n",
    "          callbacks=[tensorboard_callback]);"
   ],
   "outputs": [
    {
     "name": "stdout",
     "output_type": "stream",
     "text": [
      "Epoch 1/15\n",
      "39/39 [==============================] - 1s 13ms/step - loss: 0.8934 - accuracy: 0.7813 - val_loss: 0.3949 - val_accuracy: 0.9183\n",
      "Epoch 2/15\n",
      "39/39 [==============================] - 0s 6ms/step - loss: 0.3181 - accuracy: 0.9410 - val_loss: 0.2673 - val_accuracy: 0.9412\n",
      "Epoch 3/15\n",
      "39/39 [==============================] - 0s 5ms/step - loss: 0.2166 - accuracy: 0.9574 - val_loss: 0.2165 - val_accuracy: 0.9542\n",
      "Epoch 4/15\n",
      "39/39 [==============================] - 0s 5ms/step - loss: 0.1698 - accuracy: 0.9681 - val_loss: 0.1840 - val_accuracy: 0.9739\n",
      "Epoch 5/15\n",
      "39/39 [==============================] - 0s 5ms/step - loss: 0.1403 - accuracy: 0.9746 - val_loss: 0.1604 - val_accuracy: 0.9771\n",
      "Epoch 6/15\n",
      "39/39 [==============================] - 0s 5ms/step - loss: 0.1200 - accuracy: 0.9779 - val_loss: 0.1464 - val_accuracy: 0.9804\n",
      "Epoch 7/15\n",
      "39/39 [==============================] - 0s 5ms/step - loss: 0.1053 - accuracy: 0.9812 - val_loss: 0.1377 - val_accuracy: 0.9804\n",
      "Epoch 8/15\n",
      "39/39 [==============================] - 0s 8ms/step - loss: 0.0932 - accuracy: 0.9853 - val_loss: 0.1345 - val_accuracy: 0.9804\n",
      "Epoch 9/15\n",
      "39/39 [==============================] - 0s 7ms/step - loss: 0.0837 - accuracy: 0.9885 - val_loss: 0.1218 - val_accuracy: 0.9804\n",
      "Epoch 10/15\n",
      "39/39 [==============================] - 0s 7ms/step - loss: 0.0757 - accuracy: 0.9894 - val_loss: 0.1176 - val_accuracy: 0.9804\n",
      "Epoch 11/15\n",
      "39/39 [==============================] - 0s 9ms/step - loss: 0.0689 - accuracy: 0.9894 - val_loss: 0.1124 - val_accuracy: 0.9804\n",
      "Epoch 12/15\n",
      "39/39 [==============================] - 0s 5ms/step - loss: 0.0631 - accuracy: 0.9926 - val_loss: 0.1097 - val_accuracy: 0.9804\n",
      "Epoch 13/15\n",
      "39/39 [==============================] - 0s 5ms/step - loss: 0.0581 - accuracy: 0.9934 - val_loss: 0.1055 - val_accuracy: 0.9804\n",
      "Epoch 14/15\n",
      "39/39 [==============================] - 0s 6ms/step - loss: 0.0539 - accuracy: 0.9934 - val_loss: 0.1020 - val_accuracy: 0.9804\n",
      "Epoch 15/15\n",
      "39/39 [==============================] - 0s 5ms/step - loss: 0.0502 - accuracy: 0.9951 - val_loss: 0.0975 - val_accuracy: 0.9837\n"
     ]
    }
   ],
   "execution_count": 33
  },
  {
   "cell_type": "code",
   "metadata": {
    "ExecuteTime": {
     "end_time": "2024-10-04T17:55:06.545990Z",
     "start_time": "2024-10-04T17:54:53.732014Z"
    }
   },
   "source": [
    "%tensorboard --logdir tensorboard_logs"
   ],
   "outputs": [
    {
     "data": {
      "text/plain": [
       "<IPython.core.display.HTML object>"
      ],
      "text/html": [
       "\n",
       "      <iframe id=\"tensorboard-frame-9343d31a433f4829\" width=\"100%\" height=\"800\" frameborder=\"0\">\n",
       "      </iframe>\n",
       "      <script>\n",
       "        (function() {\n",
       "          const frame = document.getElementById(\"tensorboard-frame-9343d31a433f4829\");\n",
       "          const url = new URL(\"/\", window.location);\n",
       "          const port = 6006;\n",
       "          if (port) {\n",
       "            url.port = port;\n",
       "          }\n",
       "          frame.src = url;\n",
       "        })();\n",
       "      </script>\n",
       "    "
      ]
     },
     "metadata": {},
     "output_type": "display_data"
    }
   ],
   "execution_count": 34
  },
  {
   "cell_type": "markdown",
   "metadata": {},
   "source": [
    "### b) Exercises: Impact of the Optimizer\n",
    "\n",
    "- Try to decrease the learning rate value by 10 or 100. What do you observe?\n",
    "\n",
    "- Try to increase the learning rate value to make the optimization diverge.\n",
    "\n",
    "- Configure the SGD optimizer to enable a Nesterov momentum of 0.9\n",
    "  \n",
    "**Notes**: \n",
    "\n",
    "The keras API documentation is available at:\n",
    "\n",
    "https://www.tensorflow.org/api_docs/python/tf/keras\n",
    "\n",
    "It is also possible to learn more about the parameters of a class by using the question mark: type and evaluate:\n",
    "\n",
    "```python\n",
    "optimizers.SGD\n",
    "\n",
    "```\n",
    "\n",
    "in a jupyter notebook cell.\n",
    "\n",
    "It is also possible to type the beginning of a function call / constructor and type \"shift-tab\" after the opening paren:\n",
    "\n",
    "```python\n",
    "optimizers.SGD\n",
    "```"
   ]
  },
  {
   "cell_type": "code",
   "metadata": {
    "ExecuteTime": {
     "end_time": "2024-10-04T18:02:37.017592Z",
     "start_time": "2024-10-04T18:02:33.985377Z"
    }
   },
   "source": [
    "# Change learning rate to 0.01\n",
    "model = Sequential()\n",
    "model.add(Dense(hidden_dim, input_dim=input_dim, activation=\"tanh\"))\n",
    "model.add(Dense(output_dim, activation=\"softmax\"))\n",
    "\n",
    "model.compile(optimizer=optimizers.SGD(learning_rate=0.01),\n",
    "              loss='categorical_crossentropy', metrics=['accuracy'])\n",
    "\n",
    "history = model.fit(X_train, Y_train, validation_split=0.2, epochs=15, batch_size=32)\n"
   ],
   "outputs": [
    {
     "name": "stdout",
     "output_type": "stream",
     "text": [
      "Epoch 1/15\n",
      "39/39 [==============================] - 1s 8ms/step - loss: 2.1188 - accuracy: 0.2809 - val_loss: 1.6701 - val_accuracy: 0.5229\n",
      "Epoch 2/15\n",
      "39/39 [==============================] - 0s 4ms/step - loss: 1.4637 - accuracy: 0.6143 - val_loss: 1.1990 - val_accuracy: 0.7418\n",
      "Epoch 3/15\n",
      "39/39 [==============================] - 0s 5ms/step - loss: 1.1038 - accuracy: 0.7715 - val_loss: 0.9371 - val_accuracy: 0.8333\n",
      "Epoch 4/15\n",
      "39/39 [==============================] - 0s 4ms/step - loss: 0.8874 - accuracy: 0.8247 - val_loss: 0.7762 - val_accuracy: 0.8660\n",
      "Epoch 5/15\n",
      "39/39 [==============================] - 0s 4ms/step - loss: 0.7461 - accuracy: 0.8616 - val_loss: 0.6706 - val_accuracy: 0.8791\n",
      "Epoch 6/15\n",
      "39/39 [==============================] - 0s 4ms/step - loss: 0.6475 - accuracy: 0.8771 - val_loss: 0.5937 - val_accuracy: 0.8856\n",
      "Epoch 7/15\n",
      "39/39 [==============================] - 0s 4ms/step - loss: 0.5736 - accuracy: 0.8919 - val_loss: 0.5373 - val_accuracy: 0.8922\n",
      "Epoch 8/15\n",
      "39/39 [==============================] - 0s 3ms/step - loss: 0.5162 - accuracy: 0.9017 - val_loss: 0.4927 - val_accuracy: 0.9020\n",
      "Epoch 9/15\n",
      "39/39 [==============================] - 0s 5ms/step - loss: 0.4704 - accuracy: 0.9115 - val_loss: 0.4561 - val_accuracy: 0.9085\n",
      "Epoch 10/15\n",
      "39/39 [==============================] - 0s 5ms/step - loss: 0.4336 - accuracy: 0.9181 - val_loss: 0.4265 - val_accuracy: 0.9118\n",
      "Epoch 11/15\n",
      "39/39 [==============================] - 0s 4ms/step - loss: 0.4035 - accuracy: 0.9247 - val_loss: 0.4021 - val_accuracy: 0.9118\n",
      "Epoch 12/15\n",
      "39/39 [==============================] - 0s 4ms/step - loss: 0.3780 - accuracy: 0.9312 - val_loss: 0.3818 - val_accuracy: 0.9150\n",
      "Epoch 13/15\n",
      "39/39 [==============================] - 0s 5ms/step - loss: 0.3557 - accuracy: 0.9353 - val_loss: 0.3629 - val_accuracy: 0.9248\n",
      "Epoch 14/15\n",
      "39/39 [==============================] - 0s 4ms/step - loss: 0.3365 - accuracy: 0.9394 - val_loss: 0.3471 - val_accuracy: 0.9281\n",
      "Epoch 15/15\n",
      "39/39 [==============================] - 0s 4ms/step - loss: 0.3197 - accuracy: 0.9402 - val_loss: 0.3331 - val_accuracy: 0.9281\n"
     ]
    }
   ],
   "execution_count": 61
  },
  {
   "cell_type": "code",
   "metadata": {
    "ExecuteTime": {
     "end_time": "2024-10-04T18:02:49.322780Z",
     "start_time": "2024-10-04T18:02:46.883116Z"
    }
   },
   "source": [
    "# Change learning rate to 0.001\n",
    "model = Sequential()\n",
    "model.add(Dense(hidden_dim, input_dim=input_dim, activation=\"tanh\"))\n",
    "model.add(Dense(output_dim, activation=\"softmax\"))\n",
    "\n",
    "model.compile(optimizer=optimizers.SGD(learning_rate=0.001),\n",
    "              loss='categorical_crossentropy', metrics=['accuracy'])\n",
    "\n",
    "history = model.fit(X_train, Y_train, validation_split=0.2, epochs=15, batch_size=32)\n"
   ],
   "outputs": [
    {
     "name": "stdout",
     "output_type": "stream",
     "text": [
      "Epoch 1/15\n",
      "39/39 [==============================] - 1s 8ms/step - loss: 2.5018 - accuracy: 0.1032 - val_loss: 2.4335 - val_accuracy: 0.1307\n",
      "Epoch 2/15\n",
      "39/39 [==============================] - 0s 3ms/step - loss: 2.3956 - accuracy: 0.1368 - val_loss: 2.3318 - val_accuracy: 0.1830\n",
      "Epoch 3/15\n",
      "39/39 [==============================] - 0s 3ms/step - loss: 2.2962 - accuracy: 0.1777 - val_loss: 2.2355 - val_accuracy: 0.2255\n",
      "Epoch 4/15\n",
      "39/39 [==============================] - 0s 3ms/step - loss: 2.2025 - accuracy: 0.2195 - val_loss: 2.1449 - val_accuracy: 0.2810\n",
      "Epoch 5/15\n",
      "39/39 [==============================] - 0s 4ms/step - loss: 2.1145 - accuracy: 0.2621 - val_loss: 2.0580 - val_accuracy: 0.3268\n",
      "Epoch 6/15\n",
      "39/39 [==============================] - 0s 3ms/step - loss: 2.0306 - accuracy: 0.3129 - val_loss: 1.9781 - val_accuracy: 0.3595\n",
      "Epoch 7/15\n",
      "39/39 [==============================] - 0s 3ms/step - loss: 1.9531 - accuracy: 0.3636 - val_loss: 1.9019 - val_accuracy: 0.3987\n",
      "Epoch 8/15\n",
      "39/39 [==============================] - 0s 3ms/step - loss: 1.8794 - accuracy: 0.4136 - val_loss: 1.8302 - val_accuracy: 0.4346\n",
      "Epoch 9/15\n",
      "39/39 [==============================] - 0s 3ms/step - loss: 1.8102 - accuracy: 0.4545 - val_loss: 1.7629 - val_accuracy: 0.4771\n",
      "Epoch 10/15\n",
      "39/39 [==============================] - 0s 3ms/step - loss: 1.7453 - accuracy: 0.4889 - val_loss: 1.7000 - val_accuracy: 0.5131\n",
      "Epoch 11/15\n",
      "39/39 [==============================] - 0s 2ms/step - loss: 1.6845 - accuracy: 0.5209 - val_loss: 1.6405 - val_accuracy: 0.5686\n",
      "Epoch 12/15\n",
      "39/39 [==============================] - 0s 2ms/step - loss: 1.6273 - accuracy: 0.5455 - val_loss: 1.5846 - val_accuracy: 0.5980\n",
      "Epoch 13/15\n",
      "39/39 [==============================] - 0s 4ms/step - loss: 1.5734 - accuracy: 0.5717 - val_loss: 1.5319 - val_accuracy: 0.6111\n",
      "Epoch 14/15\n",
      "39/39 [==============================] - 0s 2ms/step - loss: 1.5223 - accuracy: 0.5921 - val_loss: 1.4823 - val_accuracy: 0.6340\n",
      "Epoch 15/15\n",
      "39/39 [==============================] - 0s 2ms/step - loss: 1.4743 - accuracy: 0.6200 - val_loss: 1.4356 - val_accuracy: 0.6503\n"
     ]
    }
   ],
   "execution_count": 62
  },
  {
   "cell_type": "code",
   "metadata": {
    "ExecuteTime": {
     "end_time": "2024-10-04T17:55:06.755955Z",
     "start_time": "2024-10-04T17:55:06.743820Z"
    }
   },
   "source": "# When reduced to 0.001, slows down the learning, so it takes more time to converge.",
   "outputs": [],
   "execution_count": 36
  },
  {
   "metadata": {
    "ExecuteTime": {
     "end_time": "2024-10-04T18:11:13.806620Z",
     "start_time": "2024-10-04T18:11:10.657913Z"
    }
   },
   "cell_type": "code",
   "source": [
    "# High learning rate\n",
    "model = Sequential()\n",
    "model.add(Dense(hidden_dim, input_dim=input_dim, activation=\"tanh\"))\n",
    "model.add(Dense(output_dim, activation=\"softmax\"))\n",
    "model.compile(optimizer=optimizers.SGD(learning_rate=1),\n",
    "              loss='categorical_crossentropy', metrics=['accuracy'])\n",
    "history = model.fit(X_train, Y_train, validation_split=0.2, epochs=15, batch_size=32)\n"
   ],
   "outputs": [
    {
     "name": "stdout",
     "output_type": "stream",
     "text": [
      "Epoch 1/15\n",
      "39/39 [==============================] - 1s 8ms/step - loss: 0.3797 - accuracy: 0.8829 - val_loss: 0.1239 - val_accuracy: 0.9641\n",
      "Epoch 2/15\n",
      "39/39 [==============================] - 0s 5ms/step - loss: 0.0907 - accuracy: 0.9762 - val_loss: 0.1234 - val_accuracy: 0.9608\n",
      "Epoch 3/15\n",
      "39/39 [==============================] - 0s 5ms/step - loss: 0.0555 - accuracy: 0.9828 - val_loss: 0.0820 - val_accuracy: 0.9771\n",
      "Epoch 4/15\n",
      "39/39 [==============================] - 0s 4ms/step - loss: 0.0243 - accuracy: 0.9959 - val_loss: 0.0795 - val_accuracy: 0.9706\n",
      "Epoch 5/15\n",
      "39/39 [==============================] - 0s 4ms/step - loss: 0.0148 - accuracy: 0.9992 - val_loss: 0.0821 - val_accuracy: 0.9804\n",
      "Epoch 6/15\n",
      "39/39 [==============================] - 0s 4ms/step - loss: 0.0112 - accuracy: 0.9992 - val_loss: 0.1528 - val_accuracy: 0.9641\n",
      "Epoch 7/15\n",
      "39/39 [==============================] - 0s 4ms/step - loss: 0.0158 - accuracy: 0.9967 - val_loss: 0.0747 - val_accuracy: 0.9804\n",
      "Epoch 8/15\n",
      "39/39 [==============================] - 0s 4ms/step - loss: 0.0066 - accuracy: 1.0000 - val_loss: 0.0752 - val_accuracy: 0.9771\n",
      "Epoch 9/15\n",
      "39/39 [==============================] - 0s 4ms/step - loss: 0.0053 - accuracy: 1.0000 - val_loss: 0.0740 - val_accuracy: 0.9804\n",
      "Epoch 10/15\n",
      "39/39 [==============================] - 0s 4ms/step - loss: 0.0046 - accuracy: 1.0000 - val_loss: 0.0737 - val_accuracy: 0.9804\n",
      "Epoch 11/15\n",
      "39/39 [==============================] - 0s 5ms/step - loss: 0.0040 - accuracy: 1.0000 - val_loss: 0.0772 - val_accuracy: 0.9739\n",
      "Epoch 12/15\n",
      "39/39 [==============================] - 0s 5ms/step - loss: 0.0036 - accuracy: 1.0000 - val_loss: 0.0757 - val_accuracy: 0.9771\n",
      "Epoch 13/15\n",
      "39/39 [==============================] - 0s 4ms/step - loss: 0.0032 - accuracy: 1.0000 - val_loss: 0.0753 - val_accuracy: 0.9771\n",
      "Epoch 14/15\n",
      "39/39 [==============================] - 0s 4ms/step - loss: 0.0030 - accuracy: 1.0000 - val_loss: 0.0760 - val_accuracy: 0.9771\n",
      "Epoch 15/15\n",
      "39/39 [==============================] - 0s 4ms/step - loss: 0.0027 - accuracy: 1.0000 - val_loss: 0.0765 - val_accuracy: 0.9804\n"
     ]
    }
   ],
   "execution_count": 63
  },
  {
   "cell_type": "markdown",
   "metadata": {},
   "source": [
    "- Replace the SGD optimizer by the Adam optimizer from keras and run it\n",
    "  with the default parameters.\n",
    "\n",
    "  Hint: use `optimizers.<TAB>` to tab-complete the list of implemented optimizers in Keras.\n",
    "\n",
    "- Add another hidden layer and use the \"Rectified Linear Unit\" for each\n",
    "  hidden layer. Can you still train the model with Adam with its default global\n",
    "  learning rate?"
   ]
  },
  {
   "cell_type": "code",
   "metadata": {
    "ExecuteTime": {
     "end_time": "2024-10-04T18:13:59.545637Z",
     "start_time": "2024-10-04T18:13:56.588087Z"
    }
   },
   "source": [
    "# Replace SGD with Adam optimizer\n",
    "model = Sequential()\n",
    "model.add(Dense(hidden_dim, input_dim=input_dim, activation=\"tanh\"))\n",
    "model.add(Dense(output_dim, activation=\"softmax\"))\n",
    "model.compile(optimizer=optimizers.Adam(),\n",
    "              loss='categorical_crossentropy', metrics=['accuracy'])\n",
    "\n",
    "history = model.fit(X_train, Y_train, validation_split=0.2, epochs=15, batch_size=32)"
   ],
   "outputs": [
    {
     "name": "stdout",
     "output_type": "stream",
     "text": [
      "Epoch 1/15\n",
      "39/39 [==============================] - 1s 8ms/step - loss: 1.5127 - accuracy: 0.5356 - val_loss: 0.7820 - val_accuracy: 0.8464\n",
      "Epoch 2/15\n",
      "39/39 [==============================] - 0s 4ms/step - loss: 0.6065 - accuracy: 0.8780 - val_loss: 0.4442 - val_accuracy: 0.9216\n",
      "Epoch 3/15\n",
      "39/39 [==============================] - 0s 4ms/step - loss: 0.3740 - accuracy: 0.9320 - val_loss: 0.3348 - val_accuracy: 0.9346\n",
      "Epoch 4/15\n",
      "39/39 [==============================] - 0s 3ms/step - loss: 0.2736 - accuracy: 0.9484 - val_loss: 0.2733 - val_accuracy: 0.9477\n",
      "Epoch 5/15\n",
      "39/39 [==============================] - 0s 3ms/step - loss: 0.2161 - accuracy: 0.9615 - val_loss: 0.2383 - val_accuracy: 0.9510\n",
      "Epoch 6/15\n",
      "39/39 [==============================] - 0s 3ms/step - loss: 0.1785 - accuracy: 0.9664 - val_loss: 0.2135 - val_accuracy: 0.9575\n",
      "Epoch 7/15\n",
      "39/39 [==============================] - 0s 3ms/step - loss: 0.1524 - accuracy: 0.9738 - val_loss: 0.1917 - val_accuracy: 0.9542\n",
      "Epoch 8/15\n",
      "39/39 [==============================] - 0s 3ms/step - loss: 0.1328 - accuracy: 0.9803 - val_loss: 0.1783 - val_accuracy: 0.9575\n",
      "Epoch 9/15\n",
      "39/39 [==============================] - 0s 3ms/step - loss: 0.1159 - accuracy: 0.9812 - val_loss: 0.1670 - val_accuracy: 0.9608\n",
      "Epoch 10/15\n",
      "39/39 [==============================] - 0s 3ms/step - loss: 0.1040 - accuracy: 0.9820 - val_loss: 0.1575 - val_accuracy: 0.9608\n",
      "Epoch 11/15\n",
      "39/39 [==============================] - 0s 3ms/step - loss: 0.0932 - accuracy: 0.9828 - val_loss: 0.1499 - val_accuracy: 0.9641\n",
      "Epoch 12/15\n",
      "39/39 [==============================] - 0s 3ms/step - loss: 0.0840 - accuracy: 0.9877 - val_loss: 0.1427 - val_accuracy: 0.9706\n",
      "Epoch 13/15\n",
      "39/39 [==============================] - 0s 3ms/step - loss: 0.0761 - accuracy: 0.9894 - val_loss: 0.1386 - val_accuracy: 0.9706\n",
      "Epoch 14/15\n",
      "39/39 [==============================] - 0s 3ms/step - loss: 0.0696 - accuracy: 0.9902 - val_loss: 0.1350 - val_accuracy: 0.9739\n",
      "Epoch 15/15\n",
      "39/39 [==============================] - 0s 3ms/step - loss: 0.0633 - accuracy: 0.9902 - val_loss: 0.1283 - val_accuracy: 0.9739\n"
     ]
    }
   ],
   "execution_count": 65
  },
  {
   "cell_type": "code",
   "metadata": {
    "ExecuteTime": {
     "end_time": "2024-10-04T18:15:17.579571Z",
     "start_time": "2024-10-04T18:15:13.969903Z"
    }
   },
   "source": [
    "model = Sequential()\n",
    "model.add(Dense(hidden_dim, input_dim=input_dim, activation=\"relu\"))\n",
    "model.add(Dense(hidden_dim, activation=\"relu\"))\n",
    "model.add(Dense(output_dim, activation=\"softmax\"))\n",
    "\n",
    "model.compile(optimizer=optimizers.Adam(),\n",
    "              loss='categorical_crossentropy', metrics=['accuracy'])\n",
    "history = model.fit(X_train, Y_train, validation_split=0.2, epochs=15, batch_size=32)\n"
   ],
   "outputs": [
    {
     "name": "stdout",
     "output_type": "stream",
     "text": [
      "Epoch 1/15\n",
      "39/39 [==============================] - 2s 11ms/step - loss: 1.5528 - accuracy: 0.5659 - val_loss: 0.7587 - val_accuracy: 0.8627\n",
      "Epoch 2/15\n",
      "39/39 [==============================] - 0s 4ms/step - loss: 0.4860 - accuracy: 0.9058 - val_loss: 0.2983 - val_accuracy: 0.9412\n",
      "Epoch 3/15\n",
      "39/39 [==============================] - 0s 4ms/step - loss: 0.2189 - accuracy: 0.9525 - val_loss: 0.1852 - val_accuracy: 0.9510\n",
      "Epoch 4/15\n",
      "39/39 [==============================] - 0s 3ms/step - loss: 0.1359 - accuracy: 0.9738 - val_loss: 0.1612 - val_accuracy: 0.9673\n",
      "Epoch 5/15\n",
      "39/39 [==============================] - 0s 4ms/step - loss: 0.0925 - accuracy: 0.9812 - val_loss: 0.1266 - val_accuracy: 0.9739\n",
      "Epoch 6/15\n",
      "39/39 [==============================] - 0s 3ms/step - loss: 0.0673 - accuracy: 0.9918 - val_loss: 0.1138 - val_accuracy: 0.9771\n",
      "Epoch 7/15\n",
      "39/39 [==============================] - 0s 3ms/step - loss: 0.0526 - accuracy: 0.9943 - val_loss: 0.0994 - val_accuracy: 0.9771\n",
      "Epoch 8/15\n",
      "39/39 [==============================] - 0s 3ms/step - loss: 0.0394 - accuracy: 0.9943 - val_loss: 0.1007 - val_accuracy: 0.9739\n",
      "Epoch 9/15\n",
      "39/39 [==============================] - 0s 4ms/step - loss: 0.0296 - accuracy: 0.9975 - val_loss: 0.0909 - val_accuracy: 0.9804\n",
      "Epoch 10/15\n",
      "39/39 [==============================] - 0s 3ms/step - loss: 0.0236 - accuracy: 0.9984 - val_loss: 0.0887 - val_accuracy: 0.9804\n",
      "Epoch 11/15\n",
      "39/39 [==============================] - 0s 3ms/step - loss: 0.0190 - accuracy: 1.0000 - val_loss: 0.0823 - val_accuracy: 0.9804\n",
      "Epoch 12/15\n",
      "39/39 [==============================] - 0s 4ms/step - loss: 0.0153 - accuracy: 1.0000 - val_loss: 0.0831 - val_accuracy: 0.9804\n",
      "Epoch 13/15\n",
      "39/39 [==============================] - 0s 3ms/step - loss: 0.0125 - accuracy: 1.0000 - val_loss: 0.0816 - val_accuracy: 0.9804\n",
      "Epoch 14/15\n",
      "39/39 [==============================] - 0s 4ms/step - loss: 0.0106 - accuracy: 1.0000 - val_loss: 0.0791 - val_accuracy: 0.9804\n",
      "Epoch 15/15\n",
      "39/39 [==============================] - 0s 4ms/step - loss: 0.0089 - accuracy: 1.0000 - val_loss: 0.0778 - val_accuracy: 0.9804\n"
     ]
    }
   ],
   "execution_count": 67
  },
  {
   "cell_type": "markdown",
   "metadata": {},
   "source": [
    "### Exercises: Forward Pass and Generalization\n",
    "\n",
    "- Compute predictions on test set using `model.predict(...)`\n",
    "- Compute average accuracy of the model on the test set: the fraction of test samples for which the model makes a prediction that matches the true label."
   ]
  },
  {
   "cell_type": "code",
   "metadata": {
    "ExecuteTime": {
     "end_time": "2024-10-04T18:20:04.646847Z",
     "start_time": "2024-10-04T18:20:04.522483Z"
    }
   },
   "source": [
    "predictions = model.predict(X_test)\n",
    "predicted_labels = np.argmax(predictions, axis=1)\n",
    "accuracy = np.mean(predicted_labels == y_test)\n",
    "\n",
    "print(accuracy)"
   ],
   "outputs": [
    {
     "name": "stdout",
     "output_type": "stream",
     "text": [
      "9/9 [==============================] - 0s 0s/step\n",
      "0.9777777777777777\n"
     ]
    }
   ],
   "execution_count": 72
  },
  {
   "cell_type": "markdown",
   "metadata": {},
   "source": [
    "Let us decompose how we got the predictions. First, we call the model on the data to get the laster layer (softmax) outputs directly as a tensorflow Tensor:"
   ]
  },
  {
   "cell_type": "code",
   "metadata": {
    "ExecuteTime": {
     "end_time": "2024-10-04T17:55:06.958204Z",
     "start_time": "2024-10-04T17:55:06.922427Z"
    }
   },
   "source": [
    "predictions_tf = model(X_test)\n",
    "predictions_tf[:5]"
   ],
   "outputs": [
    {
     "data": {
      "text/plain": [
       "<tf.Tensor: shape=(5, 10), dtype=float32, numpy=\n",
       "array([[4.7438141e-07, 1.9373385e-04, 9.9907851e-01, 6.6702237e-04,\n",
       "        1.9332971e-07, 6.6918602e-07, 1.2888889e-06, 1.8411234e-05,\n",
       "        1.8025554e-05, 2.1676158e-05],\n",
       "       [3.6321436e-03, 1.3306521e-05, 4.6348378e-06, 8.8332905e-09,\n",
       "        9.9382460e-01, 2.6902646e-06, 2.1772720e-03, 3.2662106e-04,\n",
       "        1.8538873e-05, 2.4404378e-07],\n",
       "       [1.2091736e-05, 7.6533783e-05, 2.6997889e-04, 4.3974791e-04,\n",
       "        8.9361092e-05, 1.2423553e-05, 3.7701957e-07, 9.9891067e-01,\n",
       "        3.9615620e-06, 1.8485649e-04],\n",
       "       [6.4865971e-04, 3.9421711e-03, 1.4037294e-04, 1.2080082e-02,\n",
       "        2.5525493e-05, 4.6376055e-04, 2.0104921e-05, 9.9585086e-05,\n",
       "        1.3166945e-03, 9.8126304e-01],\n",
       "       [7.8179264e-06, 9.7408438e-01, 2.1344810e-04, 1.2727254e-03,\n",
       "        5.2997225e-04, 8.1010621e-06, 4.1348587e-05, 1.0441447e-03,\n",
       "        2.2097424e-02, 7.0065784e-04]], dtype=float32)>"
      ]
     },
     "execution_count": 39,
     "metadata": {},
     "output_type": "execute_result"
    }
   ],
   "execution_count": 39
  },
  {
   "cell_type": "code",
   "metadata": {
    "ExecuteTime": {
     "end_time": "2024-10-04T17:55:07.247675Z",
     "start_time": "2024-10-04T17:55:07.202102Z"
    }
   },
   "source": [
    "type(predictions_tf), predictions_tf.shape"
   ],
   "outputs": [
    {
     "data": {
      "text/plain": [
       "(tensorflow.python.framework.ops.EagerTensor, TensorShape([270, 10]))"
      ]
     },
     "execution_count": 40,
     "metadata": {},
     "output_type": "execute_result"
    }
   ],
   "execution_count": 40
  },
  {
   "cell_type": "markdown",
   "metadata": {},
   "source": [
    "We can use the tensorflow API to check that for each row, the probabilities sum to 1:"
   ]
  },
  {
   "cell_type": "code",
   "metadata": {
    "ExecuteTime": {
     "end_time": "2024-10-04T17:55:07.353573Z",
     "start_time": "2024-10-04T17:55:07.324544Z"
    }
   },
   "source": [
    "import tensorflow as tf\n",
    "\n",
    "tf.reduce_sum(predictions_tf, axis=1)[:5]"
   ],
   "outputs": [
    {
     "data": {
      "text/plain": [
       "<tf.Tensor: shape=(5,), dtype=float32, numpy=array([1., 1., 1., 1., 1.], dtype=float32)>"
      ]
     },
     "execution_count": 41,
     "metadata": {},
     "output_type": "execute_result"
    }
   ],
   "execution_count": 41
  },
  {
   "cell_type": "markdown",
   "metadata": {},
   "source": [
    "We can also extract the label with the highest probability using the tensorflow API:"
   ]
  },
  {
   "cell_type": "code",
   "metadata": {
    "ExecuteTime": {
     "end_time": "2024-10-04T17:55:07.482828Z",
     "start_time": "2024-10-04T17:55:07.457639Z"
    }
   },
   "source": [
    "predicted_labels_tf = tf.argmax(predictions_tf, axis=1)\n",
    "predicted_labels_tf[:5]"
   ],
   "outputs": [
    {
     "data": {
      "text/plain": [
       "<tf.Tensor: shape=(5,), dtype=int64, numpy=array([2, 4, 7, 9, 1], dtype=int64)>"
      ]
     },
     "execution_count": 42,
     "metadata": {},
     "output_type": "execute_result"
    }
   ],
   "execution_count": 42
  },
  {
   "cell_type": "markdown",
   "metadata": {},
   "source": [
    "We can compare those labels to the expected labels to compute the accuracy with the Tensorflow API. Note however that we need an explicit cast from boolean to floating point values to be able to compute the mean accuracy when using the tensorflow tensors:"
   ]
  },
  {
   "cell_type": "code",
   "metadata": {
    "ExecuteTime": {
     "end_time": "2024-10-04T17:55:07.519833Z",
     "start_time": "2024-10-04T17:55:07.492843Z"
    }
   },
   "source": [
    "accuracy_tf = tf.reduce_mean(tf.cast(predicted_labels_tf == y_test, tf.float64))\n",
    "accuracy_tf"
   ],
   "outputs": [
    {
     "data": {
      "text/plain": [
       "<tf.Tensor: shape=(), dtype=float64, numpy=0.9925925925925926>"
      ]
     },
     "execution_count": 43,
     "metadata": {},
     "output_type": "execute_result"
    }
   ],
   "execution_count": 43
  },
  {
   "cell_type": "markdown",
   "metadata": {},
   "source": [
    "Also note that it is possible to convert tensors to numpy array if one prefer to use numpy:"
   ]
  },
  {
   "cell_type": "code",
   "metadata": {
    "ExecuteTime": {
     "end_time": "2024-10-04T17:55:07.563644Z",
     "start_time": "2024-10-04T17:55:07.555178Z"
    }
   },
   "source": [
    "accuracy_tf.numpy()"
   ],
   "outputs": [
    {
     "data": {
      "text/plain": [
       "0.9925925925925926"
      ]
     },
     "execution_count": 44,
     "metadata": {},
     "output_type": "execute_result"
    }
   ],
   "execution_count": 44
  },
  {
   "cell_type": "code",
   "metadata": {
    "ExecuteTime": {
     "end_time": "2024-10-04T17:55:07.625165Z",
     "start_time": "2024-10-04T17:55:07.613947Z"
    }
   },
   "source": [
    "predicted_labels_tf[:5]"
   ],
   "outputs": [
    {
     "data": {
      "text/plain": [
       "<tf.Tensor: shape=(5,), dtype=int64, numpy=array([2, 4, 7, 9, 1], dtype=int64)>"
      ]
     },
     "execution_count": 45,
     "metadata": {},
     "output_type": "execute_result"
    }
   ],
   "execution_count": 45
  },
  {
   "cell_type": "code",
   "metadata": {
    "ExecuteTime": {
     "end_time": "2024-10-04T17:55:07.710531Z",
     "start_time": "2024-10-04T17:55:07.700183Z"
    }
   },
   "source": [
    "predicted_labels_tf.numpy()[:5]"
   ],
   "outputs": [
    {
     "data": {
      "text/plain": [
       "array([2, 4, 7, 9, 1], dtype=int64)"
      ]
     },
     "execution_count": 46,
     "metadata": {},
     "output_type": "execute_result"
    }
   ],
   "execution_count": 46
  },
  {
   "cell_type": "code",
   "metadata": {
    "ExecuteTime": {
     "end_time": "2024-10-04T17:55:07.767103Z",
     "start_time": "2024-10-04T17:55:07.754444Z"
    }
   },
   "source": [
    "(predicted_labels_tf.numpy() == y_test).mean()"
   ],
   "outputs": [
    {
     "data": {
      "text/plain": [
       "0.9925925925925926"
      ]
     },
     "execution_count": 47,
     "metadata": {},
     "output_type": "execute_result"
    }
   ],
   "execution_count": 47
  },
  {
   "cell_type": "markdown",
   "metadata": {},
   "source": [
    "## Home Assignment: Impact of Initialization\n",
    "\n",
    "Let us now study the impact of a bad initialization when training\n",
    "a deep feed forward network.\n",
    "\n",
    "By default Keras dense layers use the \"Glorot Uniform\" initialization\n",
    "strategy to initialize the weight matrices:\n",
    "\n",
    "- each weight coefficient is randomly sampled from [-scale, scale]\n",
    "- scale is proportional to $\\frac{1}{\\sqrt{n_{in} + n_{out}}}$\n",
    "\n",
    "This strategy is known to work well to initialize deep neural networks\n",
    "with \"tanh\" or \"relu\" activation functions and then trained with\n",
    "standard SGD.\n",
    "\n",
    "To assess the impact of initialization let us plug an alternative init\n",
    "scheme into a 2 hidden layers networks with \"tanh\" activations.\n",
    "For the sake of the example let's use normal distributed weights\n",
    "with a manually adjustable scale (standard deviation) and see the\n",
    "impact the scale value:"
   ]
  },
  {
   "cell_type": "code",
   "metadata": {
    "ExecuteTime": {
     "end_time": "2024-10-04T17:55:07.837365Z",
     "start_time": "2024-10-04T17:55:07.769610Z"
    }
   },
   "source": [
    "from keras import initializers\n",
    "\n",
    "normal_init = initializers.TruncatedNormal(stddev=0.01)\n",
    "\n",
    "model = Sequential()\n",
    "model.add(Dense(hidden_dim, input_dim=input_dim, activation=\"tanh\",\n",
    "                kernel_initializer=normal_init))\n",
    "model.add(Dense(hidden_dim, activation=\"tanh\",\n",
    "                kernel_initializer=normal_init))\n",
    "model.add(Dense(output_dim, activation=\"softmax\",\n",
    "                kernel_initializer=normal_init))\n",
    "\n",
    "model.compile(optimizer=optimizers.SGD(learning_rate=0.1),\n",
    "              loss='categorical_crossentropy', metrics=['accuracy'])"
   ],
   "outputs": [
    {
     "name": "stderr",
     "output_type": "stream",
     "text": [
      "C:\\Users\\admin\\anaconda3\\Lib\\site-packages\\keras\\src\\initializers\\initializers.py:120: UserWarning: The initializer TruncatedNormal is unseeded and being called multiple times, which will return identical values each time (even if the initializer is unseeded). Please update your code to provide a seed to the initializer, or avoid using the same initializer instance more than once.\n",
      "  warnings.warn(\n"
     ]
    }
   ],
   "execution_count": 48
  },
  {
   "cell_type": "code",
   "metadata": {
    "ExecuteTime": {
     "end_time": "2024-10-04T17:55:07.912140Z",
     "start_time": "2024-10-04T17:55:07.881421Z"
    }
   },
   "source": [
    "model.layers"
   ],
   "outputs": [
    {
     "data": {
      "text/plain": [
       "[<keras.src.layers.core.dense.Dense at 0x1d8feb15910>,\n",
       " <keras.src.layers.core.dense.Dense at 0x1d8fe648fd0>,\n",
       " <keras.src.layers.core.dense.Dense at 0x1d8feba3910>]"
      ]
     },
     "execution_count": 49,
     "metadata": {},
     "output_type": "execute_result"
    }
   ],
   "execution_count": 49
  },
  {
   "cell_type": "markdown",
   "metadata": {},
   "source": [
    "Let's have a look at the parameters of the first layer after initialization but before any training has happened:"
   ]
  },
  {
   "cell_type": "code",
   "metadata": {
    "ExecuteTime": {
     "end_time": "2024-10-04T17:55:07.935601Z",
     "start_time": "2024-10-04T17:55:07.924714Z"
    }
   },
   "source": [
    "model.layers[0].weights"
   ],
   "outputs": [
    {
     "data": {
      "text/plain": [
       "[<tf.Variable 'dense_4/kernel:0' shape=(64, 100) dtype=float32, numpy=\n",
       " array([[-0.0016275 ,  0.00892883,  0.01062927, ...,  0.00955812,\n",
       "         -0.00152391, -0.01272483],\n",
       "        [-0.00968703, -0.0008428 , -0.0112787 , ...,  0.0033375 ,\n",
       "         -0.01080137, -0.00807262],\n",
       "        [-0.00237384, -0.01120786,  0.00595366, ..., -0.00413126,\n",
       "         -0.00700686, -0.01333109],\n",
       "        ...,\n",
       "        [ 0.00311827, -0.00466754,  0.00431631, ..., -0.00272042,\n",
       "          0.00435892, -0.00426914],\n",
       "        [-0.01642676,  0.00490873,  0.00219968, ..., -0.0171682 ,\n",
       "          0.00576116,  0.00739009],\n",
       "        [-0.01296061,  0.00625648, -0.00879481, ...,  0.00585933,\n",
       "          0.0058256 ,  0.00830094]], dtype=float32)>,\n",
       " <tf.Variable 'dense_4/bias:0' shape=(100,) dtype=float32, numpy=\n",
       " array([0., 0., 0., 0., 0., 0., 0., 0., 0., 0., 0., 0., 0., 0., 0., 0., 0.,\n",
       "        0., 0., 0., 0., 0., 0., 0., 0., 0., 0., 0., 0., 0., 0., 0., 0., 0.,\n",
       "        0., 0., 0., 0., 0., 0., 0., 0., 0., 0., 0., 0., 0., 0., 0., 0., 0.,\n",
       "        0., 0., 0., 0., 0., 0., 0., 0., 0., 0., 0., 0., 0., 0., 0., 0., 0.,\n",
       "        0., 0., 0., 0., 0., 0., 0., 0., 0., 0., 0., 0., 0., 0., 0., 0., 0.,\n",
       "        0., 0., 0., 0., 0., 0., 0., 0., 0., 0., 0., 0., 0., 0., 0.],\n",
       "       dtype=float32)>]"
      ]
     },
     "execution_count": 50,
     "metadata": {},
     "output_type": "execute_result"
    }
   ],
   "execution_count": 50
  },
  {
   "cell_type": "code",
   "metadata": {
    "ExecuteTime": {
     "end_time": "2024-10-04T17:55:07.989484Z",
     "start_time": "2024-10-04T17:55:07.972830Z"
    }
   },
   "source": [
    "w = model.layers[0].weights[0].numpy()\n",
    "w"
   ],
   "outputs": [
    {
     "data": {
      "text/plain": [
       "array([[-0.0016275 ,  0.00892883,  0.01062927, ...,  0.00955812,\n",
       "        -0.00152391, -0.01272483],\n",
       "       [-0.00968703, -0.0008428 , -0.0112787 , ...,  0.0033375 ,\n",
       "        -0.01080137, -0.00807262],\n",
       "       [-0.00237384, -0.01120786,  0.00595366, ..., -0.00413126,\n",
       "        -0.00700686, -0.01333109],\n",
       "       ...,\n",
       "       [ 0.00311827, -0.00466754,  0.00431631, ..., -0.00272042,\n",
       "         0.00435892, -0.00426914],\n",
       "       [-0.01642676,  0.00490873,  0.00219968, ..., -0.0171682 ,\n",
       "         0.00576116,  0.00739009],\n",
       "       [-0.01296061,  0.00625648, -0.00879481, ...,  0.00585933,\n",
       "         0.0058256 ,  0.00830094]], dtype=float32)"
      ]
     },
     "execution_count": 51,
     "metadata": {},
     "output_type": "execute_result"
    }
   ],
   "execution_count": 51
  },
  {
   "cell_type": "code",
   "metadata": {
    "ExecuteTime": {
     "end_time": "2024-10-04T17:55:08.086290Z",
     "start_time": "2024-10-04T17:55:08.076793Z"
    }
   },
   "source": [
    "w.std()"
   ],
   "outputs": [
    {
     "data": {
      "text/plain": [
       "0.0087858215"
      ]
     },
     "execution_count": 52,
     "metadata": {},
     "output_type": "execute_result"
    }
   ],
   "execution_count": 52
  },
  {
   "cell_type": "code",
   "metadata": {
    "ExecuteTime": {
     "end_time": "2024-10-04T17:55:08.205253Z",
     "start_time": "2024-10-04T17:55:08.189469Z"
    }
   },
   "source": [
    "b = model.layers[0].weights[1].numpy()\n",
    "b"
   ],
   "outputs": [
    {
     "data": {
      "text/plain": [
       "array([0., 0., 0., 0., 0., 0., 0., 0., 0., 0., 0., 0., 0., 0., 0., 0., 0.,\n",
       "       0., 0., 0., 0., 0., 0., 0., 0., 0., 0., 0., 0., 0., 0., 0., 0., 0.,\n",
       "       0., 0., 0., 0., 0., 0., 0., 0., 0., 0., 0., 0., 0., 0., 0., 0., 0.,\n",
       "       0., 0., 0., 0., 0., 0., 0., 0., 0., 0., 0., 0., 0., 0., 0., 0., 0.,\n",
       "       0., 0., 0., 0., 0., 0., 0., 0., 0., 0., 0., 0., 0., 0., 0., 0., 0.,\n",
       "       0., 0., 0., 0., 0., 0., 0., 0., 0., 0., 0., 0., 0., 0., 0.],\n",
       "      dtype=float32)"
      ]
     },
     "execution_count": 53,
     "metadata": {},
     "output_type": "execute_result"
    }
   ],
   "execution_count": 53
  },
  {
   "cell_type": "code",
   "metadata": {
    "ExecuteTime": {
     "end_time": "2024-10-04T17:55:10.269161Z",
     "start_time": "2024-10-04T17:55:08.246240Z"
    }
   },
   "source": [
    "history = model.fit(X_train, Y_train, epochs=15, batch_size=32)\n",
    "\n",
    "plt.figure(figsize=(12, 4))\n",
    "plt.plot(history.history['loss'], label=\"Truncated Normal init\")\n",
    "plt.legend();"
   ],
   "outputs": [
    {
     "name": "stdout",
     "output_type": "stream",
     "text": [
      "Epoch 1/15\n",
      "48/48 [==============================] - 1s 2ms/step - loss: 2.3026 - accuracy: 0.0995\n",
      "Epoch 2/15\n",
      "48/48 [==============================] - 0s 2ms/step - loss: 2.2993 - accuracy: 0.1074\n",
      "Epoch 3/15\n",
      "48/48 [==============================] - 0s 2ms/step - loss: 2.2840 - accuracy: 0.1853\n",
      "Epoch 4/15\n",
      "48/48 [==============================] - 0s 3ms/step - loss: 2.0110 - accuracy: 0.2901\n",
      "Epoch 5/15\n",
      "48/48 [==============================] - 0s 1ms/step - loss: 1.3407 - accuracy: 0.5809\n",
      "Epoch 6/15\n",
      "48/48 [==============================] - 0s 2ms/step - loss: 0.8538 - accuracy: 0.7236\n",
      "Epoch 7/15\n",
      "48/48 [==============================] - 0s 2ms/step - loss: 0.6635 - accuracy: 0.7859\n",
      "Epoch 8/15\n",
      "48/48 [==============================] - 0s 1ms/step - loss: 0.5630 - accuracy: 0.8265\n",
      "Epoch 9/15\n",
      "48/48 [==============================] - 0s 2ms/step - loss: 0.4729 - accuracy: 0.8553\n",
      "Epoch 10/15\n",
      "48/48 [==============================] - 0s 2ms/step - loss: 0.3890 - accuracy: 0.8926\n",
      "Epoch 11/15\n",
      "48/48 [==============================] - 0s 2ms/step - loss: 0.3133 - accuracy: 0.9129\n",
      "Epoch 12/15\n",
      "48/48 [==============================] - 0s 2ms/step - loss: 0.2606 - accuracy: 0.9286\n",
      "Epoch 13/15\n",
      "48/48 [==============================] - 0s 1ms/step - loss: 0.2205 - accuracy: 0.9411\n",
      "Epoch 14/15\n",
      "48/48 [==============================] - 0s 2ms/step - loss: 0.1918 - accuracy: 0.9483\n",
      "Epoch 15/15\n",
      "48/48 [==============================] - 0s 2ms/step - loss: 0.1666 - accuracy: 0.9568\n"
     ]
    },
    {
     "data": {
      "text/plain": [
       "<Figure size 1200x400 with 1 Axes>"
      ],
      "image/png": "[encoded data removed]"
     },
     "metadata": {},
     "output_type": "display_data"
    }
   ],
   "execution_count": 54
  },
  {
   "cell_type": "markdown",
   "metadata": {},
   "source": [
    "Once the model has been fit, the weights have been updated and notably the biases are no longer 0:"
   ]
  },
  {
   "cell_type": "code",
   "metadata": {
    "ExecuteTime": {
     "end_time": "2024-10-04T17:55:10.291196Z",
     "start_time": "2024-10-04T17:55:10.278979Z"
    }
   },
   "source": [
    "model.layers[0].weights"
   ],
   "outputs": [
    {
     "data": {
      "text/plain": [
       "[<tf.Variable 'dense_4/kernel:0' shape=(64, 100) dtype=float32, numpy=\n",
       " array([[-0.0016275 ,  0.00892883,  0.01062927, ...,  0.00955812,\n",
       "         -0.00152391, -0.01272483],\n",
       "        [-0.02436804,  0.02927381,  0.0264777 , ...,  0.0098038 ,\n",
       "         -0.03965928, -0.04117174],\n",
       "        [ 0.00752023,  0.01285648,  0.02145327, ...,  0.02330523,\n",
       "         -0.04695595, -0.04049429],\n",
       "        ...,\n",
       "        [-0.03210221, -0.01535109,  0.04155519, ..., -0.03403262,\n",
       "          0.02841076, -0.00135815],\n",
       "        [ 0.0035065 , -0.00775749,  0.0392525 , ..., -0.02365856,\n",
       "          0.019876  ,  0.00274053],\n",
       "        [-0.07557894, -0.04699425, -0.03103216, ..., -0.04260208,\n",
       "          0.04451982,  0.03972973]], dtype=float32)>,\n",
       " <tf.Variable 'dense_4/bias:0' shape=(100,) dtype=float32, numpy=\n",
       " array([-0.05081439, -0.11526573, -0.09708227,  0.02366897,  0.02371838,\n",
       "         0.01429818, -0.03046413, -0.0088399 , -0.05537785, -0.04699536,\n",
       "         0.01856904, -0.04323156, -0.05465802,  0.02567016,  0.00768421,\n",
       "         0.01748587,  0.06573548,  0.01380368,  0.06240806,  0.13528353,\n",
       "         0.03179295,  0.01330815, -0.00436186, -0.022941  ,  0.0113367 ,\n",
       "        -0.01699708,  0.1011368 , -0.04530182,  0.01158749,  0.00828886,\n",
       "         0.00190547, -0.07186534, -0.05349888, -0.09917897, -0.0478447 ,\n",
       "         0.02846052, -0.05677795, -0.10751443, -0.0226887 ,  0.05801363,\n",
       "         0.05121911, -0.0013461 , -0.02286901, -0.02151074,  0.01372366,\n",
       "        -0.05931833,  0.00118743, -0.02788389,  0.02044945,  0.03195902,\n",
       "         0.05846589,  0.04059275, -0.02938559,  0.00375636, -0.01168793,\n",
       "        -0.02484251,  0.11826431,  0.03118783, -0.02486354, -0.04249547,\n",
       "         0.04117987, -0.04511822, -0.03183135,  0.07991483,  0.02312986,\n",
       "         0.00784083, -0.15362717,  0.01860795,  0.02088484,  0.02798331,\n",
       "         0.00144364,  0.00959024,  0.05857437, -0.01138971,  0.01144813,\n",
       "        -0.00305736,  0.00029155, -0.01429623, -0.00701437, -0.03554752,\n",
       "        -0.06094614, -0.0332833 ,  0.0285368 , -0.01019975,  0.08515109,\n",
       "        -0.00123151, -0.04084189,  0.07040389,  0.00083582,  0.0058965 ,\n",
       "        -0.03688575,  0.03520805,  0.03196514, -0.07859585,  0.03390674,\n",
       "         0.01845464, -0.04450706, -0.03262557,  0.07236125,  0.02201583],\n",
       "       dtype=float32)>]"
      ]
     },
     "execution_count": 55,
     "metadata": {},
     "output_type": "execute_result"
    }
   ],
   "execution_count": 55
  },
  {
   "cell_type": "markdown",
   "metadata": {},
   "source": [
    "#### Questions:\n",
    "\n",
    "- Try the following initialization schemes and see whether\n",
    "  the SGD algorithm can successfully train the network or\n",
    "  not:\n",
    "  \n",
    "  - a very small e.g. `stddev=1e-3`\n",
    "  - a larger scale e.g. `stddev=1` or `10`\n",
    "  - initialize all weights to 0 (constant initialization)\n",
    "  \n",
    "- What do you observe? Can you find an explanation for those\n",
    "  outcomes?\n",
    "\n",
    "- Are more advanced solvers such as SGD with momentum or Adam able\n",
    "  to deal better with such bad initializations?"
   ]
  },
  {
   "cell_type": "code",
   "metadata": {
    "ExecuteTime": {
     "end_time": "2024-10-04T18:27:52.227044Z",
     "start_time": "2024-10-04T18:27:49.566717Z"
    }
   },
   "source": [
    "from keras import initializers\n",
    "\n",
    "normal_init = initializers.TruncatedNormal(stddev=1e-3)\n",
    "\n",
    "model = Sequential()\n",
    "model.add(Dense(hidden_dim, input_dim=input_dim, activation=\"tanh\",\n",
    "                kernel_initializer=normal_init))\n",
    "model.add(Dense(hidden_dim, activation=\"tanh\",\n",
    "                kernel_initializer=normal_init))\n",
    "model.add(Dense(output_dim, activation=\"softmax\",\n",
    "                kernel_initializer=normal_init))\n",
    "\n",
    "model.compile(optimizer=optimizers.SGD(learning_rate=0.1),\n",
    "              loss='categorical_crossentropy', metrics=['accuracy'])\n",
    "\n",
    "history = model.fit(X_train, Y_train, epochs=15, batch_size=32)\n",
    "\n",
    "plt.figure(figsize=(12, 4))\n",
    "plt.plot(history.history['loss'], label=\"Truncated Normal init\")\n",
    "plt.legend();\n"
   ],
   "outputs": [
    {
     "name": "stdout",
     "output_type": "stream",
     "text": [
      "Epoch 1/15\n"
     ]
    },
    {
     "name": "stderr",
     "output_type": "stream",
     "text": [
      "C:\\Users\\admin\\anaconda3\\Lib\\site-packages\\keras\\src\\initializers\\initializers.py:120: UserWarning: The initializer TruncatedNormal is unseeded and being called multiple times, which will return identical values each time (even if the initializer is unseeded). Please update your code to provide a seed to the initializer, or avoid using the same initializer instance more than once.\n",
      "  warnings.warn(\n"
     ]
    },
    {
     "name": "stdout",
     "output_type": "stream",
     "text": [
      "48/48 [==============================] - 1s 2ms/step - loss: 2.3036 - accuracy: 0.1002\n",
      "Epoch 2/15\n",
      "48/48 [==============================] - 0s 3ms/step - loss: 2.3031 - accuracy: 0.1028\n",
      "Epoch 3/15\n",
      "48/48 [==============================] - 0s 3ms/step - loss: 2.3031 - accuracy: 0.1048\n",
      "Epoch 4/15\n",
      "48/48 [==============================] - 0s 2ms/step - loss: 2.3029 - accuracy: 0.1087\n",
      "Epoch 5/15\n",
      "48/48 [==============================] - 0s 2ms/step - loss: 2.3030 - accuracy: 0.1087\n",
      "Epoch 6/15\n",
      "48/48 [==============================] - 0s 2ms/step - loss: 2.3030 - accuracy: 0.1087\n",
      "Epoch 7/15\n",
      "48/48 [==============================] - 0s 2ms/step - loss: 2.3031 - accuracy: 0.1087\n",
      "Epoch 8/15\n",
      "48/48 [==============================] - 0s 2ms/step - loss: 2.3029 - accuracy: 0.1087\n",
      "Epoch 9/15\n",
      "48/48 [==============================] - 0s 3ms/step - loss: 2.3030 - accuracy: 0.1087\n",
      "Epoch 10/15\n",
      "48/48 [==============================] - 0s 2ms/step - loss: 2.3029 - accuracy: 0.1087\n",
      "Epoch 11/15\n",
      "48/48 [==============================] - 0s 3ms/step - loss: 2.3029 - accuracy: 0.1087\n",
      "Epoch 12/15\n",
      "48/48 [==============================] - 0s 3ms/step - loss: 2.3029 - accuracy: 0.1087\n",
      "Epoch 13/15\n",
      "48/48 [==============================] - 0s 2ms/step - loss: 2.3029 - accuracy: 0.1087\n",
      "Epoch 14/15\n",
      "48/48 [==============================] - 0s 3ms/step - loss: 2.3029 - accuracy: 0.1087\n",
      "Epoch 15/15\n",
      "48/48 [==============================] - 0s 3ms/step - loss: 2.3030 - accuracy: 0.1087\n"
     ]
    },
    {
     "data": {
      "text/plain": [
       "<Figure size 1200x400 with 1 Axes>"
      ],
      "image/png": "[encoded data removed]"
     },
     "metadata": {},
     "output_type": "display_data"
    }
   ],
   "execution_count": 76
  },
  {
   "metadata": {},
   "cell_type": "code",
   "outputs": [],
   "execution_count": null,
   "source": "#Small initial weights compared to the below one, which  might lead the model to converge slowly."
  },
  {
   "cell_type": "code",
   "metadata": {
    "ExecuteTime": {
     "end_time": "2024-10-04T18:28:26.264717Z",
     "start_time": "2024-10-04T18:28:24.070562Z"
    }
   },
   "source": [
    "from keras import initializers\n",
    "\n",
    "normal_init = initializers.TruncatedNormal(stddev=1)\n",
    "\n",
    "model = Sequential()\n",
    "model.add(Dense(hidden_dim, input_dim=input_dim, activation=\"tanh\",\n",
    "                kernel_initializer=normal_init))\n",
    "model.add(Dense(hidden_dim, activation=\"tanh\",\n",
    "                kernel_initializer=normal_init))\n",
    "model.add(Dense(output_dim, activation=\"softmax\",\n",
    "                kernel_initializer=normal_init))\n",
    "\n",
    "model.compile(optimizer=optimizers.SGD(learning_rate=0.1),\n",
    "              loss='categorical_crossentropy', metrics=['accuracy'])\n",
    "\n",
    "history = model.fit(X_train, Y_train, epochs=15, batch_size=32)\n",
    "\n",
    "plt.figure(figsize=(12, 4))\n",
    "plt.plot(history.history['loss'], label=\"Truncated Normal init\")\n",
    "plt.legend();"
   ],
   "outputs": [
    {
     "name": "stdout",
     "output_type": "stream",
     "text": [
      "Epoch 1/15\n"
     ]
    },
    {
     "name": "stderr",
     "output_type": "stream",
     "text": [
      "C:\\Users\\admin\\anaconda3\\Lib\\site-packages\\keras\\src\\initializers\\initializers.py:120: UserWarning: The initializer TruncatedNormal is unseeded and being called multiple times, which will return identical values each time (even if the initializer is unseeded). Please update your code to provide a seed to the initializer, or avoid using the same initializer instance more than once.\n",
      "  warnings.warn(\n"
     ]
    },
    {
     "name": "stdout",
     "output_type": "stream",
     "text": [
      "48/48 [==============================] - 1s 3ms/step - loss: 5.4153 - accuracy: 0.4204\n",
      "Epoch 2/15\n",
      "48/48 [==============================] - 0s 2ms/step - loss: 1.1445 - accuracy: 0.8016\n",
      "Epoch 3/15\n",
      "48/48 [==============================] - 0s 2ms/step - loss: 0.4708 - accuracy: 0.9149\n",
      "Epoch 4/15\n",
      "48/48 [==============================] - 0s 2ms/step - loss: 0.2459 - accuracy: 0.9548\n",
      "Epoch 5/15\n",
      "48/48 [==============================] - 0s 2ms/step - loss: 0.1480 - accuracy: 0.9731\n",
      "Epoch 6/15\n",
      "48/48 [==============================] - 0s 2ms/step - loss: 0.1069 - accuracy: 0.9830\n",
      "Epoch 7/15\n",
      "48/48 [==============================] - 0s 2ms/step - loss: 0.0793 - accuracy: 0.9862\n",
      "Epoch 8/15\n",
      "48/48 [==============================] - 0s 1ms/step - loss: 0.0592 - accuracy: 0.9908\n",
      "Epoch 9/15\n",
      "48/48 [==============================] - 0s 1ms/step - loss: 0.0492 - accuracy: 0.9915\n",
      "Epoch 10/15\n",
      "48/48 [==============================] - 0s 2ms/step - loss: 0.0405 - accuracy: 0.9935\n",
      "Epoch 11/15\n",
      "48/48 [==============================] - 0s 3ms/step - loss: 0.0341 - accuracy: 0.9948\n",
      "Epoch 12/15\n",
      "48/48 [==============================] - 0s 2ms/step - loss: 0.0285 - accuracy: 0.9954\n",
      "Epoch 13/15\n",
      "48/48 [==============================] - 0s 2ms/step - loss: 0.0239 - accuracy: 0.9967\n",
      "Epoch 14/15\n",
      "48/48 [==============================] - 0s 2ms/step - loss: 0.0208 - accuracy: 0.9967\n",
      "Epoch 15/15\n",
      "48/48 [==============================] - 0s 2ms/step - loss: 0.0184 - accuracy: 0.9967\n"
     ]
    },
    {
     "data": {
      "text/plain": [
       "<Figure size 1200x400 with 1 Axes>"
      ],
      "image/png": "[encoded data removed]"
     },
     "metadata": {},
     "output_type": "display_data"
    }
   ],
   "execution_count": 77
  },
  {
   "cell_type": "code",
   "metadata": {
    "ExecuteTime": {
     "end_time": "2024-10-04T18:32:51.781758Z",
     "start_time": "2024-10-04T18:32:49.579997Z"
    }
   },
   "source": [
    "from keras import initializers\n",
    "\n",
    "normal_init = initializers.Zeros()\n",
    "\n",
    "model = Sequential()\n",
    "model.add(Dense(hidden_dim, input_dim=input_dim, activation=\"tanh\",\n",
    "                kernel_initializer=normal_init))\n",
    "model.add(Dense(hidden_dim, activation=\"tanh\",\n",
    "                kernel_initializer=normal_init))\n",
    "model.add(Dense(output_dim, activation=\"softmax\",\n",
    "                kernel_initializer=normal_init))\n",
    "\n",
    "model.compile(optimizer=optimizers.SGD(learning_rate=0.1),\n",
    "              loss='categorical_crossentropy', metrics=['accuracy'])\n",
    "\n",
    "history = model.fit(X_train, Y_train, epochs=15, batch_size=32)\n",
    "\n",
    "plt.figure(figsize=(12, 4))\n",
    "plt.plot(history.history['loss'], label=\"Zeros\")\n",
    "plt.legend();"
   ],
   "outputs": [
    {
     "name": "stdout",
     "output_type": "stream",
     "text": [
      "Epoch 1/15\n",
      "48/48 [==============================] - 1s 2ms/step - loss: 2.3035 - accuracy: 0.0884\n",
      "Epoch 2/15\n",
      "48/48 [==============================] - 0s 3ms/step - loss: 2.3032 - accuracy: 0.1048\n",
      "Epoch 3/15\n",
      "48/48 [==============================] - 0s 2ms/step - loss: 2.3030 - accuracy: 0.1087\n",
      "Epoch 4/15\n",
      "48/48 [==============================] - 0s 2ms/step - loss: 2.3030 - accuracy: 0.1087\n",
      "Epoch 5/15\n",
      "48/48 [==============================] - 0s 2ms/step - loss: 2.3031 - accuracy: 0.1087\n",
      "Epoch 6/15\n",
      "48/48 [==============================] - 0s 2ms/step - loss: 2.3030 - accuracy: 0.1087\n",
      "Epoch 7/15\n",
      "48/48 [==============================] - 0s 2ms/step - loss: 2.3030 - accuracy: 0.1087\n",
      "Epoch 8/15\n",
      "48/48 [==============================] - 0s 2ms/step - loss: 2.3031 - accuracy: 0.1087\n",
      "Epoch 9/15\n",
      "48/48 [==============================] - 0s 2ms/step - loss: 2.3029 - accuracy: 0.1087\n",
      "Epoch 10/15\n",
      "48/48 [==============================] - 0s 2ms/step - loss: 2.3031 - accuracy: 0.1067\n",
      "Epoch 11/15\n",
      "48/48 [==============================] - 0s 2ms/step - loss: 2.3031 - accuracy: 0.1067\n",
      "Epoch 12/15\n",
      "48/48 [==============================] - 0s 2ms/step - loss: 2.3032 - accuracy: 0.1087\n",
      "Epoch 13/15\n",
      "48/48 [==============================] - 0s 2ms/step - loss: 2.3030 - accuracy: 0.1087\n",
      "Epoch 14/15\n",
      "48/48 [==============================] - 0s 2ms/step - loss: 2.3031 - accuracy: 0.1087\n",
      "Epoch 15/15\n",
      "48/48 [==============================] - 0s 2ms/step - loss: 2.3030 - accuracy: 0.1087\n"
     ]
    },
    {
     "data": {
      "text/plain": [
       "<Figure size 1200x400 with 1 Axes>"
      ],
      "image/png": "[encoded data removed]"
     },
     "metadata": {},
     "output_type": "display_data"
    }
   ],
   "execution_count": 79
  }
 ],
 "metadata": {
  "file_extension": ".py",
  "kernelspec": {
   "display_name": "Python 3 (ipykernel)",
   "language": "python",
   "name": "python3"
  },
  "language_info": {
   "codemirror_mode": {
    "name": "ipython",
    "version": 3
   },
   "file_extension": ".py",
   "mimetype": "text/x-python",
   "name": "python",
   "nbconvert_exporter": "python",
   "pygments_lexer": "ipython3",
   "version": "3.9.9"
  },
  "mimetype": "text/x-python",
  "name": "python",
  "npconvert_exporter": "python",
  "pygments_lexer": "ipython3",
  "toc": {
   "base_numbering": 1,
   "nav_menu": {},
   "number_sections": true,
   "sideBar": true,
   "skip_h1_title": false,
   "title_cell": "Table of Contents",
   "title_sidebar": "Contents",
   "toc_cell": false,
   "toc_position": {},
   "toc_section_display": true,
   "toc_window_display": false
  },
  "version": 3
 },
 "nbformat": 4,
 "nbformat_minor": 4
}
